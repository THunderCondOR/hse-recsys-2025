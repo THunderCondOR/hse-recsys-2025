{
 "cells": [
  {
   "cell_type": "markdown",
   "id": "93831896-683d-4946-8cae-7aff56608a65",
   "metadata": {},
   "source": [
    "## ДЗ №2. Матричные факторизации"
   ]
  },
  {
   "cell_type": "markdown",
   "id": "03b424ec-3791-4113-a672-25ef7cfa704d",
   "metadata": {},
   "source": [
    "#### В этой домашке вам предстоит реализовать некоторые базовые модели матричной факторизации\n",
    "\n",
    "#### Дата выдачи: 17.02.25\n",
    "\n",
    "#### Мягкий дедлайн: 02.03.25 23:59 MSK\n",
    "\n",
    "#### Жесткий дедлайн: 09.03.25 23:59 MSK"
   ]
  },
  {
   "cell_type": "markdown",
   "id": "d8f4b315-75b8-4225-953c-5510c584ff2b",
   "metadata": {},
   "source": [
    "В этом задании мы будем работать с классическим для рекоендательных систем датасетом [MovieLens 1M](https://grouplens.org/datasets/movielens/1m/). Датасет содержит рейтинги оценки для 4000 фильмов от 6000 пользователей. Более подробное описание можете найти на странице с датасетом и в README файле"
   ]
  },
  {
   "cell_type": "code",
   "execution_count": 1,
   "id": "f5a85f84-4854-4249-963d-143d08bb7e36",
   "metadata": {},
   "outputs": [
    {
     "name": "stdout",
     "output_type": "stream",
     "text": [
      "--2025-03-02 11:56:42--  https://files.grouplens.org/datasets/movielens/ml-1m.zip\n",
      "Resolving files.grouplens.org (files.grouplens.org)... 128.101.65.152\n",
      "Connecting to files.grouplens.org (files.grouplens.org)|128.101.65.152|:443... connected.\n",
      "HTTP request sent, awaiting response... 200 OK\n",
      "Length: 5917549 (5.6M) [application/zip]\n",
      "Saving to: ‘ml-1m.zip’\n",
      "\n",
      "ml-1m.zip           100%[===================>]   5.64M  5.30MB/s    in 1.1s    \n",
      "\n",
      "2025-03-02 11:56:45 (5.30 MB/s) - ‘ml-1m.zip’ saved [5917549/5917549]\n",
      "\n",
      "Archive:  ml-1m.zip\n",
      "   creating: ml-1m/\n",
      "  inflating: ml-1m/movies.dat        \n",
      "  inflating: ml-1m/ratings.dat       \n",
      "  inflating: ml-1m/README            \n",
      "  inflating: ml-1m/users.dat         \n",
      "SUMMARY\n",
      "================================================================================\n",
      "\n",
      "These files contain 1,000,209 anonymous ratings of approximately 3,900 movies \n",
      "made by 6,040 MovieLens users who joined MovieLens in 2000.\n",
      "\n",
      "USAGE LICENSE\n",
      "================================================================================\n",
      "\n",
      "Neither the University of Minnesota nor any of the researchers\n",
      "involved can guarantee the correctness of the data, its suitability\n",
      "for any particular purpose, or the validity of results based on the\n",
      "use of the data set.  The data set may be used for any research\n",
      "purposes under the following conditions:\n",
      "\n",
      "     * The user may not state or imply any endorsement from the\n",
      "       University of Minnesota or the GroupLens Research Group.\n",
      "\n",
      "     * The user must acknowledge the use of the data set in\n",
      "       publications resulting from the use of the data set\n",
      "       (see below for citation information).\n",
      "\n",
      "     * The user may not redistribute the data without separate\n",
      "       permission.\n",
      "\n",
      "     * The user may not use this information for any commercial or\n",
      "       revenue-bearing purposes without first obtaining permission\n",
      "       from a faculty member of the GroupLens Research Project at the\n",
      "       University of Minnesota.\n",
      "\n",
      "If you have any further questions or comments, please contact GroupLens\n",
      "<grouplens-info@cs.umn.edu>. \n",
      "\n",
      "CITATION\n",
      "================================================================================\n",
      "\n",
      "To acknowledge use of the dataset in publications, please cite the following\n",
      "paper:\n",
      "\n",
      "F. Maxwell Harper and Joseph A. Konstan. 2015. The MovieLens Datasets: History\n",
      "and Context. ACM Transactions on Interactive Intelligent Systems (TiiS) 5, 4,\n",
      "Article 19 (December 2015), 19 pages. DOI=http://dx.doi.org/10.1145/2827872\n",
      "\n",
      "\n",
      "ACKNOWLEDGEMENTS\n",
      "================================================================================\n",
      "\n",
      "Thanks to Shyong Lam and Jon Herlocker for cleaning up and generating the data\n",
      "set.\n",
      "\n",
      "FURTHER INFORMATION ABOUT THE GROUPLENS RESEARCH PROJECT\n",
      "================================================================================\n",
      "\n",
      "The GroupLens Research Project is a research group in the Department of \n",
      "Computer Science and Engineering at the University of Minnesota. Members of \n",
      "the GroupLens Research Project are involved in many research projects related \n",
      "to the fields of information filtering, collaborative filtering, and \n",
      "recommender systems. The project is lead by professors John Riedl and Joseph \n",
      "Konstan. The project began to explore automated collaborative filtering in \n",
      "1992, but is most well known for its world wide trial of an automated \n",
      "collaborative filtering system for Usenet news in 1996. Since then the project \n",
      "has expanded its scope to research overall information filtering solutions, \n",
      "integrating in content-based methods as well as improving current collaborative \n",
      "filtering technology.\n",
      "\n",
      "Further information on the GroupLens Research project, including research \n",
      "publications, can be found at the following web site:\n",
      "        \n",
      "        http://www.grouplens.org/\n",
      "\n",
      "GroupLens Research currently operates a movie recommender based on \n",
      "collaborative filtering:\n",
      "\n",
      "        http://www.movielens.org/\n",
      "\n",
      "RATINGS FILE DESCRIPTION\n",
      "================================================================================\n",
      "\n",
      "All ratings are contained in the file \"ratings.dat\" and are in the\n",
      "following format:\n",
      "\n",
      "UserID::MovieID::Rating::Timestamp\n",
      "\n",
      "- UserIDs range between 1 and 6040 \n",
      "- MovieIDs range between 1 and 3952\n",
      "- Ratings are made on a 5-star scale (whole-star ratings only)\n",
      "- Timestamp is represented in seconds since the epoch as returned by time(2)\n",
      "- Each user has at least 20 ratings\n",
      "\n",
      "USERS FILE DESCRIPTION\n",
      "================================================================================\n",
      "\n",
      "User information is in the file \"users.dat\" and is in the following\n",
      "format:\n",
      "\n",
      "UserID::Gender::Age::Occupation::Zip-code\n",
      "\n",
      "All demographic information is provided voluntarily by the users and is\n",
      "not checked for accuracy.  Only users who have provided some demographic\n",
      "information are included in this data set.\n",
      "\n",
      "- Gender is denoted by a \"M\" for male and \"F\" for female\n",
      "- Age is chosen from the following ranges:\n",
      "\n",
      "\t*  1:  \"Under 18\"\n",
      "\t* 18:  \"18-24\"\n",
      "\t* 25:  \"25-34\"\n",
      "\t* 35:  \"35-44\"\n",
      "\t* 45:  \"45-49\"\n",
      "\t* 50:  \"50-55\"\n",
      "\t* 56:  \"56+\"\n",
      "\n",
      "- Occupation is chosen from the following choices:\n",
      "\n",
      "\t*  0:  \"other\" or not specified\n",
      "\t*  1:  \"academic/educator\"\n",
      "\t*  2:  \"artist\"\n",
      "\t*  3:  \"clerical/admin\"\n",
      "\t*  4:  \"college/grad student\"\n",
      "\t*  5:  \"customer service\"\n",
      "\t*  6:  \"doctor/health care\"\n",
      "\t*  7:  \"executive/managerial\"\n",
      "\t*  8:  \"farmer\"\n",
      "\t*  9:  \"homemaker\"\n",
      "\t* 10:  \"K-12 student\"\n",
      "\t* 11:  \"lawyer\"\n",
      "\t* 12:  \"programmer\"\n",
      "\t* 13:  \"retired\"\n",
      "\t* 14:  \"sales/marketing\"\n",
      "\t* 15:  \"scientist\"\n",
      "\t* 16:  \"self-employed\"\n",
      "\t* 17:  \"technician/engineer\"\n",
      "\t* 18:  \"tradesman/craftsman\"\n",
      "\t* 19:  \"unemployed\"\n",
      "\t* 20:  \"writer\"\n",
      "\n",
      "MOVIES FILE DESCRIPTION\n",
      "================================================================================\n",
      "\n",
      "Movie information is in the file \"movies.dat\" and is in the following\n",
      "format:\n",
      "\n",
      "MovieID::Title::Genres\n",
      "\n",
      "- Titles are identical to titles provided by the IMDB (including\n",
      "year of release)\n",
      "- Genres are pipe-separated and are selected from the following genres:\n",
      "\n",
      "\t* Action\n",
      "\t* Adventure\n",
      "\t* Animation\n",
      "\t* Children's\n",
      "\t* Comedy\n",
      "\t* Crime\n",
      "\t* Documentary\n",
      "\t* Drama\n",
      "\t* Fantasy\n",
      "\t* Film-Noir\n",
      "\t* Horror\n",
      "\t* Musical\n",
      "\t* Mystery\n",
      "\t* Romance\n",
      "\t* Sci-Fi\n",
      "\t* Thriller\n",
      "\t* War\n",
      "\t* Western\n",
      "\n",
      "- Some MovieIDs do not correspond to a movie due to accidental duplicate\n",
      "entries and/or test entries\n",
      "- Movies are mostly entered by hand, so errors and inconsistencies may exist\n"
     ]
    }
   ],
   "source": [
    "# !wget https://files.grouplens.org/datasets/movielens/ml-1m.zip\n",
    "# !unzip ml-1m.zip\n",
    "# !cat ml-1m/README"
   ]
  },
  {
   "cell_type": "code",
   "execution_count": 2,
   "id": "669137ca-f0f9-48d4-ae04-e42a4b0f8d14",
   "metadata": {},
   "outputs": [],
   "source": [
    "import pandas as pd\n",
    "import numpy as np\n",
    "from typing import Union"
   ]
  },
  {
   "cell_type": "code",
   "execution_count": 3,
   "id": "ed65b0ae-ce2d-437a-9739-e7981011089f",
   "metadata": {},
   "outputs": [
    {
     "data": {
      "text/html": [
       "<div>\n",
       "<style scoped>\n",
       "    .dataframe tbody tr th:only-of-type {\n",
       "        vertical-align: middle;\n",
       "    }\n",
       "\n",
       "    .dataframe tbody tr th {\n",
       "        vertical-align: top;\n",
       "    }\n",
       "\n",
       "    .dataframe thead th {\n",
       "        text-align: right;\n",
       "    }\n",
       "</style>\n",
       "<table border=\"1\" class=\"dataframe\">\n",
       "  <thead>\n",
       "    <tr style=\"text-align: right;\">\n",
       "      <th></th>\n",
       "      <th>user_id</th>\n",
       "      <th>item_id</th>\n",
       "      <th>rating</th>\n",
       "      <th>datetime</th>\n",
       "    </tr>\n",
       "  </thead>\n",
       "  <tbody>\n",
       "    <tr>\n",
       "      <th>0</th>\n",
       "      <td>1</td>\n",
       "      <td>1193</td>\n",
       "      <td>5</td>\n",
       "      <td>2000-12-31 22:12:40</td>\n",
       "    </tr>\n",
       "    <tr>\n",
       "      <th>1</th>\n",
       "      <td>1</td>\n",
       "      <td>661</td>\n",
       "      <td>3</td>\n",
       "      <td>2000-12-31 22:35:09</td>\n",
       "    </tr>\n",
       "    <tr>\n",
       "      <th>2</th>\n",
       "      <td>1</td>\n",
       "      <td>914</td>\n",
       "      <td>3</td>\n",
       "      <td>2000-12-31 22:32:48</td>\n",
       "    </tr>\n",
       "    <tr>\n",
       "      <th>3</th>\n",
       "      <td>1</td>\n",
       "      <td>3408</td>\n",
       "      <td>4</td>\n",
       "      <td>2000-12-31 22:04:35</td>\n",
       "    </tr>\n",
       "    <tr>\n",
       "      <th>4</th>\n",
       "      <td>1</td>\n",
       "      <td>2355</td>\n",
       "      <td>5</td>\n",
       "      <td>2001-01-06 23:38:11</td>\n",
       "    </tr>\n",
       "  </tbody>\n",
       "</table>\n",
       "</div>"
      ],
      "text/plain": [
       "   user_id  item_id  rating            datetime\n",
       "0        1     1193       5 2000-12-31 22:12:40\n",
       "1        1      661       3 2000-12-31 22:35:09\n",
       "2        1      914       3 2000-12-31 22:32:48\n",
       "3        1     3408       4 2000-12-31 22:04:35\n",
       "4        1     2355       5 2001-01-06 23:38:11"
      ]
     },
     "execution_count": 3,
     "metadata": {},
     "output_type": "execute_result"
    }
   ],
   "source": [
    "df = pd.read_csv(\"ml-1m/ratings.dat\", sep='::', names=['user_id', 'item_id', 'rating', 'timestamp'], engine='python')\n",
    "df['datetime'] = pd.to_datetime(df['timestamp'], unit='s')\n",
    "df.drop('timestamp', axis=1, inplace=True)\n",
    "df.head()"
   ]
  },
  {
   "cell_type": "code",
   "execution_count": 4,
   "id": "4988d476-542e-4a32-9c45-7a16bc2a5db5",
   "metadata": {},
   "outputs": [],
   "source": [
    "value_counts = df['item_id'].value_counts()\n",
    "filtered_values = value_counts[value_counts > 20].index\n",
    "df = df[df['item_id'].isin(filtered_values)].copy()"
   ]
  },
  {
   "cell_type": "code",
   "execution_count": 5,
   "id": "1e05bd3b-ab2f-4c02-9a97-a4153e9550bc",
   "metadata": {},
   "outputs": [
    {
     "data": {
      "text/plain": [
       "((787420, 4), (207432, 4))"
      ]
     },
     "execution_count": 5,
     "metadata": {},
     "output_type": "execute_result"
    }
   ],
   "source": [
    "train_end = '2000-12-01'\n",
    "df_train = df[df['datetime'] < train_end].copy()\n",
    "df_test = df[df['datetime'] >= train_end].copy()\n",
    "df_train.shape, df_test.shape"
   ]
  },
  {
   "cell_type": "code",
   "execution_count": null,
   "id": "414b8ed7-20d6-4778-9d60-f9c8ccbfa7e3",
   "metadata": {},
   "outputs": [
    {
     "data": {
      "text/plain": [
       "(106471, 4)"
      ]
     },
     "execution_count": 6,
     "metadata": {},
     "output_type": "execute_result"
    }
   ],
   "source": [
    "train_users = df_train['user_id'].unique()\n",
    "train_items = df_train['item_id'].unique()\n",
    "\n",
    "df_test = df_test[df_test['user_id'].isin(train_users)]\n",
    "df_test = df_test[df_test['item_id'].isin(train_items)]\n",
    "df_test.shape"
   ]
  },
  {
   "cell_type": "code",
   "execution_count": 7,
   "id": "19f53d61-990c-4626-a470-7eefd06d2ec7",
   "metadata": {},
   "outputs": [],
   "source": [
    "from sklearn.preprocessing import LabelEncoder\n",
    "\n",
    "user_le = LabelEncoder()\n",
    "item_le = LabelEncoder()\n",
    "\n",
    "df_train['user_id'] = user_le.fit_transform(df_train['user_id'])\n",
    "df_train['item_id'] = item_le.fit_transform(df_train['item_id'])\n",
    "\n",
    "df_test['user_id'] = user_le.transform(df_test['user_id'])\n",
    "df_test['item_id'] = item_le.transform(df_test['item_id'])"
   ]
  },
  {
   "cell_type": "code",
   "execution_count": 8,
   "id": "f4ef3e2f-792d-4511-b4d0-74495d9cb30b",
   "metadata": {},
   "outputs": [
    {
     "name": "stdout",
     "output_type": "stream",
     "text": [
      "(5365, np.int64(5364))\n",
      "(3010, np.int64(3009))\n"
     ]
    }
   ],
   "source": [
    "print((df_train['user_id'].nunique(), df_train['user_id'].max()))\n",
    "print((df_train['item_id'].nunique(), df_train['item_id'].max()))"
   ]
  },
  {
   "cell_type": "markdown",
   "id": "3d356df8-9157-4752-b30d-dc80aba5e53c",
   "metadata": {},
   "source": [
    "##### Задание 1. Напишем функцию, которая превратит датафрейм в матрицу интеракций. В функции df_to_matrix реализуйте функцию, которая принимает датафрейм и возвращает np.array матрицу интеракций. В функции df_to_coo реализуйте функцию, которая принимает датафрейм и возвращает разреженную матрицу интеракций в coo_array формате"
   ]
  },
  {
   "cell_type": "code",
   "execution_count": 9,
   "id": "d38a7bb7-7f2d-4957-8dac-6397af9b1645",
   "metadata": {},
   "outputs": [],
   "source": [
    "def df_to_matrix(df: pd.DataFrame) -> np.ndarray:\n",
    "    result = df.pivot(index='user_id', columns='item_id', values='rating').fillna(0)\n",
    "    return result.values #shape ~ [n_users, n_items]"
   ]
  },
  {
   "cell_type": "code",
   "execution_count": 10,
   "id": "55362cbb-5e2d-455b-afd1-8507f1dd51ba",
   "metadata": {},
   "outputs": [],
   "source": [
    "interactions = df_to_matrix(df_train)"
   ]
  },
  {
   "cell_type": "code",
   "execution_count": 11,
   "id": "794b646d-a560-42dd-a466-87cad2589271",
   "metadata": {},
   "outputs": [],
   "source": [
    "from scipy.sparse import coo_array\n",
    "\n",
    "def df_to_coo(df: pd.DataFrame) -> coo_array:\n",
    "    n_users = df['user_id'].max() + 1\n",
    "    n_items = df['item_id'].max() + 1\n",
    "    rows = df['user_id'].values\n",
    "    cols = df['item_id'].values\n",
    "    data = df['rating'].values\n",
    "    return coo_array((data, (rows, cols)), shape=(n_users, n_items), dtype=float)"
   ]
  },
  {
   "cell_type": "code",
   "execution_count": 12,
   "id": "30f9c218-0419-41b2-a112-c2214fad1d99",
   "metadata": {},
   "outputs": [],
   "source": [
    "coo_interactions = df_to_coo(df_train)"
   ]
  },
  {
   "cell_type": "code",
   "execution_count": 13,
   "id": "96b57a7a-0551-4f75-8047-fb9904ac93df",
   "metadata": {},
   "outputs": [],
   "source": [
    "assert (interactions != 0).sum() == df_train.shape[0]\n",
    "assert interactions[0, 2994] == 3\n",
    "assert interactions[2369, 1203] == 5\n",
    "assert interactions[1557, 459] == 3\n",
    "assert np.allclose(coo_interactions.toarray(), interactions)"
   ]
  },
  {
   "cell_type": "markdown",
   "id": "93b3862a-e62a-4ebe-a70c-29102e9f99fd",
   "metadata": {},
   "source": [
    "##### Задание 2.1. Рассмотрим [SVD](https://en.wikipedia.org/wiki/Singular_value_decomposition). Возьмите готовую реализуцию алгоритма из numpy.linalg или из scipy.linalg и примените алгоритм к матрицам интеракций, полученным в первом задании. Для работы со sparse матрицей обычная реализация svd не подойдет и нужно будет воспользоваться scipy.sparse.linalg.svds. Вам нужно разложить матрицу интеракций на 3 матрицы U, S, V, а затем перемножить их и восстановить изначальную матрицу. При полном разложении исходная матрица должна восстанавливаться максимально хорошо"
   ]
  },
  {
   "cell_type": "code",
   "execution_count": 14,
   "id": "eead134a-9aac-4027-b0b8-592de614c3d0",
   "metadata": {},
   "outputs": [],
   "source": [
    "from scipy.sparse.linalg import svds\n",
    "\n",
    "def make_svd(interactions: Union[np.ndarray, coo_array], n_singular_values: int = -1):\n",
    "    # функция должна работать и для полной матрицы и для sparse матрицы(вам поможет isinstance).\n",
    "    # если n_singular_values = -1, то берем все сингулярные числа для полной матрицы\n",
    "    # и все кроме одного сингулярного числа для coo-матрицы(иначе scipy.sparse.linalg.svds не будет работать)\n",
    "\n",
    "    U, S, V = None, None, None\n",
    "\n",
    "    if isinstance(interactions, np.ndarray):\n",
    "        U, S, V = np.linalg.svd(interactions, full_matrices=False)\n",
    "        if n_singular_values != -1:\n",
    "            U = U[:, :n_singular_values]\n",
    "            S = S[:n_singular_values]\n",
    "            V = V[:n_singular_values, :]\n",
    "    else:\n",
    "        U, S, V = svds(interactions, k=min(interactions.shape) - 1 if n_singular_values == -1 else n_singular_values)\n",
    "\n",
    "    S = np.diag(S)\n",
    "    \n",
    "    return U, S, V"
   ]
  },
  {
   "cell_type": "code",
   "execution_count": 15,
   "id": "5c5fecd4-4739-4f6b-9c9c-44bde8b66a34",
   "metadata": {},
   "outputs": [],
   "source": [
    "U, S, V = make_svd(interactions)\n",
    "assert np.allclose(U @ S @ V, interactions)"
   ]
  },
  {
   "cell_type": "code",
   "execution_count": 16,
   "id": "c5a5f59e-3832-4a7d-95b4-856531582bbd",
   "metadata": {},
   "outputs": [],
   "source": [
    "U1, S1, V1 = make_svd(interactions, 10)\n",
    "U, S, V = make_svd(coo_interactions, 10)\n",
    "assert np.allclose(U1 @ S1 @ V1, U @ S @ V)"
   ]
  },
  {
   "cell_type": "markdown",
   "id": "9443daa6-e9f1-414a-8107-5a3016452929",
   "metadata": {},
   "source": [
    "##### Задание 2.2. Теперь попробуем сделать рекомендации с помощью SVD. Мы научились восстанавливать исходную матрицу с помощью разложения, теперь же мы хотим порекомендовать пользователю айтемы, которые будут для него максимально релевантны(в восстановленной матрице у них будет самый высокий скор). Для каждого пользователя нужно будет найти индексы айтемов, которые имеют максимальный скор. При этом стоит обратить внимание, что мы не хотим рекомендовать пользователю айтемы, с которыми он уже взаимодействовал"
   ]
  },
  {
   "cell_type": "code",
   "execution_count": 17,
   "id": "2297100d",
   "metadata": {},
   "outputs": [],
   "source": [
    "def make_svd_recommendations(interactions: Union[np.ndarray, coo_array], n_singular_values: int = -1, top_k: int = 100):\n",
    "    # Возвращает матрицу вида n_users, top_k, то есть для каждого пользователя возвращаем индексы \n",
    "    # top_k самых релевантных айтемов среди тех, с которыми он еще не взаимодействовал.\n",
    "\n",
    "    U, S, V = make_svd(interactions, n_singular_values)\n",
    "\n",
    "    interactions_svd = U @ S @ V\n",
    "    \n",
    "    if isinstance(interactions, np.ndarray):\n",
    "        already_interacted_mask = interactions != 0\n",
    "    else:\n",
    "        already_interacted_mask = np.zeros(interactions.shape, dtype=bool)\n",
    "        already_interacted_mask[interactions.row, interactions.col] = True\n",
    "\n",
    "    masked_interactions_svd = np.where(already_interacted_mask, -np.inf, interactions_svd)\n",
    "\n",
    "    top_items = np.argsort(masked_interactions_svd, axis=1)[:, ::-1]\n",
    "\n",
    "    recommendations = top_items[:, :top_k]\n",
    "\n",
    "    return recommendations  # shape ~ [n_users, top_k]"
   ]
  },
  {
   "cell_type": "code",
   "execution_count": 18,
   "id": "ec72f3dd-c8f2-4434-b84e-ef016c4773a1",
   "metadata": {},
   "outputs": [],
   "source": [
    "recs = make_svd_recommendations(interactions, -1, 100)\n",
    "assert recs.shape == (interactions.shape[0], 100)"
   ]
  },
  {
   "cell_type": "markdown",
   "id": "f5d0b788-855a-4fd9-8cbb-38c0dd289ef5",
   "metadata": {},
   "source": [
    "##### Задание 2.3. Теперь давайте посмотрим как будет зависеть качетво рекомендаций, от количества сингулярных чисел, которые мы возьмем в SVD разложении. Переберите n_singular_values из списка [1, 10, 50, 200, 1000] и посмотрите как будет изменяться метрика NDCG на тестовом датасете для таких рекомендаций и как будет меняться время вычисления. Для каждого графики зависимости метрики NDCG от n_singular_values и времени работы алгоритма от n_singular_values(Время работы будет меняться только для sparse-матрицы, стоит запускать алгоритм именно для нее)"
   ]
  },
  {
   "cell_type": "code",
   "execution_count": 19,
   "id": "ea10e445",
   "metadata": {},
   "outputs": [],
   "source": [
    "def dcg(scores):\n",
    "    return np.sum(np.divide(np.power(2, scores) - 1, np.log2(np.arange(scores.shape[0], dtype=np.float64) + 2)), dtype=float)\n",
    "\n",
    "def ndcg_metric(gt_items, predicted):\n",
    "    at = len(predicted)\n",
    "    relevance = np.array([1 if x in gt_items else 0 for x in predicted])\n",
    "    rank_dcg = dcg(relevance)\n",
    "\n",
    "    if rank_dcg == 0.0:\n",
    "        return 0.0\n",
    "\n",
    "    ideal_dcg = dcg(np.sort(relevance)[::-1][:at])\n",
    "\n",
    "    if ideal_dcg == 0.0:\n",
    "        return 0.0\n",
    "\n",
    "    ndcg_ = rank_dcg / ideal_dcg\n",
    "\n",
    "    return ndcg_\n",
    "\n",
    "def calculate_ndcg(recomendations, df_test):\n",
    "    ndcg = 0.0\n",
    "\n",
    "    for user_id in df_test['user_id'].unique():\n",
    "        gt_items = df_test[df_test['user_id'] == user_id]['item_id'].tolist()\n",
    "        ndcg += ndcg_metric(gt_items, recomendations[user_id])\n",
    "\n",
    "    return ndcg / df_test['user_id'].nunique()"
   ]
  },
  {
   "cell_type": "code",
   "execution_count": 20,
   "id": "06f931fd-0eb0-4965-9e02-e005ed545c71",
   "metadata": {},
   "outputs": [],
   "source": [
    "import time\n",
    "import matplotlib.pyplot as plt\n",
    "\n",
    "def plot_graphs(interactions: Union[np.ndarray, coo_array], top_k: int = 100):\n",
    "    ndcg_history = []\n",
    "    time_history = []\n",
    "\n",
    "    for n_singular_values in [1, 10, 50, 200, 1000]:\n",
    "        start_time = time.time()\n",
    "        \n",
    "        recommendations = make_svd_recommendations(interactions, n_singular_values, top_k)\n",
    "        \n",
    "        ndcg_score = calculate_ndcg(recommendations, df_test)\n",
    "        \n",
    "        end_time = time.time()\n",
    "        \n",
    "        ndcg_history.append(ndcg_score)\n",
    "        time_history.append(end_time - start_time)\n",
    "\n",
    "    fig, ax = plt.subplots(1, 2, figsize=(12, 6))\n",
    "    \n",
    "    ax[0].plot([1, 10, 50, 200, 1000], ndcg_history, marker='o', color='g')\n",
    "    ax[0].set_title('Значение NDCG в зависимости от n_singular_values')\n",
    "    ax[0].set_xlabel('n_singular_values')\n",
    "    ax[0].set_ylabel('NDCG')\n",
    "    ax[0].grid()\n",
    "    \n",
    "    ax[1].plot([1, 10, 50, 200, 1000], time_history, marker='o', color='r')\n",
    "    ax[1].set_title('Зависимость времени выполнения от n_singular_values')\n",
    "    ax[1].set_xlabel('n_singular_values')\n",
    "    ax[1].set_ylabel('Time (seconds)')\n",
    "    ax[1].grid()\n",
    "    \n",
    "    plt.tight_layout()\n",
    "    plt.show()\n"
   ]
  },
  {
   "cell_type": "code",
   "execution_count": 21,
   "id": "ee22fe02-b1c2-4fb5-a7b1-0525356fe9f0",
   "metadata": {},
   "outputs": [
    {
     "data": {
      "image/png": "[encoded data removed]",
      "text/plain": [
       "<Figure size 1200x600 with 2 Axes>"
      ]
     },
     "metadata": {},
     "output_type": "display_data"
    }
   ],
   "source": [
    "plot_graphs(coo_interactions)"
   ]
  },
  {
   "cell_type": "markdown",
   "id": "cb8fa194",
   "metadata": {},
   "source": [
    "Видим, что для данного датасета чем меньше сингулярных значений. тем лучше. При этом с увеличением количества значений время работы также заметно увеличивается."
   ]
  },
  {
   "cell_type": "markdown",
   "id": "a8612d96-c694-42d6-9525-58808f642577",
   "metadata": {},
   "source": [
    "##### Задание 3.1. Перейдем к [ALS](http://yifanhu.net/PUB/cf.pdf). Возьмем реализацию iALS из библиотеки [implicit](https://benfred.github.io/implicit/api/models/cpu/als.html). Обучите ALS на нашем датасете, сделайте top_k рекомендации для юзеров из тестового датасета, и сравните метрики ALS с метриками, которые получились в SVD. Попробуйте перебрать гиперпараметры и найдите оптимальное число факторов, коэффициент alpha и коэффициент регуляризации."
   ]
  },
  {
   "cell_type": "code",
   "execution_count": 22,
   "id": "b5fb16e9-49d1-4d7e-a384-ccbdad4f1cdf",
   "metadata": {},
   "outputs": [
    {
     "name": "stderr",
     "output_type": "stream",
     "text": [
      "/home/chaichuk/miniconda3/envs/main-env/lib/python3.12/site-packages/tqdm/auto.py:21: TqdmWarning: IProgress not found. Please update jupyter and ipywidgets. See https://ipywidgets.readthedocs.io/en/stable/user_install.html\n",
      "  from .autonotebook import tqdm as notebook_tqdm\n"
     ]
    }
   ],
   "source": [
    "from implicit.cpu.als import AlternatingLeastSquares\n",
    "from scipy.sparse import csr_matrix\n",
    "\n",
    "def make_als_recommendations(\n",
    "    interactions: Union[np.ndarray, coo_array], \n",
    "    top_k: int = 100, \n",
    "    n_factors: int = 100,\n",
    "    alpha: float = 1.0,\n",
    "    regularization: float = 0.01,\n",
    "    iterations: int = 15,\n",
    "    show_progress: bool = True,\n",
    "    return_model: bool = False,\n",
    "    use_gpu: bool = False\n",
    "):\n",
    "    \n",
    "    interactions = csr_matrix(interactions)\n",
    "    \n",
    "    als_model = AlternatingLeastSquares(factors=n_factors, regularization=regularization, alpha=alpha, iterations=iterations, num_threads=4)\n",
    "    \n",
    "    if use_gpu:\n",
    "        als_model = als_model.to_gpu()\n",
    "    \n",
    "    als_model.fit(interactions, show_progress=show_progress)\n",
    "    \n",
    "    recommendations = als_model.recommend(np.arange(interactions.shape[0]), user_items=interactions, N=top_k, filter_already_liked_items=True)[0]\n",
    "    \n",
    "    if return_model:\n",
    "        return recommendations, als_model\n",
    "    return recommendations  # shape ~ [n_users, top_k]"
   ]
  },
  {
   "cell_type": "code",
   "execution_count": 23,
   "id": "b5573d01-8512-450f-9260-03928ee9b367",
   "metadata": {},
   "outputs": [
    {
     "name": "stderr",
     "output_type": "stream",
     "text": [
      "/home/chaichuk/miniconda3/envs/main-env/lib/python3.12/site-packages/implicit/cpu/als.py:95: RuntimeWarning: OpenBLAS is configured to use 8 threads. It is highly recommended to disable its internal threadpool by setting the environment variable 'OPENBLAS_NUM_THREADS=1' or by calling 'threadpoolctl.threadpool_limits(1, \"blas\")'. Having OpenBLAS use a threadpool can lead to severe performance issues here.\n",
      "  check_blas_config()\n",
      "100%|██████████| 15/15 [00:01<00:00,  9.18it/s]\n"
     ]
    }
   ],
   "source": [
    "recs = make_als_recommendations(coo_interactions)\n",
    "assert recs.shape == (coo_interactions.shape[0], 100)"
   ]
  },
  {
   "cell_type": "markdown",
   "id": "b105b42c",
   "metadata": {},
   "source": [
    "Посчитаем метрику"
   ]
  },
  {
   "cell_type": "code",
   "execution_count": 24,
   "id": "ecf25c10",
   "metadata": {},
   "outputs": [
    {
     "data": {
      "text/plain": [
       "np.float64(0.5008599954099113)"
      ]
     },
     "execution_count": 24,
     "metadata": {},
     "output_type": "execute_result"
    }
   ],
   "source": [
    "calculate_ndcg(recs, df_test)"
   ]
  },
  {
   "cell_type": "markdown",
   "id": "591c7029",
   "metadata": {},
   "source": [
    "В целом, метрика с базовыми параметрами сравнима с той, которая была у SVD"
   ]
  },
  {
   "cell_type": "markdown",
   "id": "85fd68d5",
   "metadata": {},
   "source": [
    "Попробуем подобрать гиперпараметры"
   ]
  },
  {
   "cell_type": "code",
   "execution_count": 25,
   "id": "51aefe1e",
   "metadata": {},
   "outputs": [
    {
     "name": "stderr",
     "output_type": "stream",
     "text": [
      "[I 2025-03-02 12:00:20,961] A new study created in memory with name: no-name-a07d22eb-c995-45f2-a4d1-fdf2e0c57280\n",
      "[I 2025-03-02 12:00:23,460] Trial 0 finished with value: 0.5184831062488025 and parameters: {'n_factors': 45, 'alpha': 9.556428757689245, 'regularization': 0.8471801418819978, 'iterations': 35}. Best is trial 0 with value: 0.5184831062488025.\n",
      "[I 2025-03-02 12:00:24,905] Trial 1 finished with value: 0.5237097310069209 and parameters: {'n_factors': 20, 'alpha': 2.403950683025824, 'regularization': 0.0017073967431528124, 'iterations': 45}. Best is trial 1 with value: 0.5237097310069209.\n",
      "[I 2025-03-02 12:00:26,589] Trial 2 finished with value: 0.5096195688047714 and parameters: {'n_factors': 75, 'alpha': 7.372653200164409, 'regularization': 0.0012087541473056963, 'iterations': 50}. Best is trial 1 with value: 0.5237097310069209.\n",
      "[I 2025-03-02 12:00:27,876] Trial 3 finished with value: 0.5003605071138442 and parameters: {'n_factors': 100, 'alpha': 2.9110519961044856, 'regularization': 0.005337032762603957, 'iterations': 15}. Best is trial 1 with value: 0.5237097310069209.\n",
      "[I 2025-03-02 12:00:29,194] Trial 4 finished with value: 0.5183563228963092 and parameters: {'n_factors': 40, 'alpha': 5.72280788469014, 'regularization': 0.05342937261279776, 'iterations': 20}. Best is trial 1 with value: 0.5237097310069209.\n",
      "[I 2025-03-02 12:00:30,606] Trial 5 finished with value: 0.5080099027313262 and parameters: {'n_factors': 75, 'alpha': 2.2554447458683766, 'regularization': 0.01474275315991467, 'iterations': 25}. Best is trial 1 with value: 0.5237097310069209.\n",
      "[I 2025-03-02 12:00:32,037] Trial 6 finished with value: 0.5176993065130779 and parameters: {'n_factors': 55, 'alpha': 8.066583652537123, 'regularization': 0.006290644294586149, 'iterations': 30}. Best is trial 1 with value: 0.5237097310069209.\n",
      "[I 2025-03-02 12:00:33,309] Trial 7 finished with value: 0.5096035519687144 and parameters: {'n_factors': 75, 'alpha': 1.4180537144799796, 'regularization': 0.26926469100861794, 'iterations': 15}. Best is trial 1 with value: 0.5237097310069209.\n",
      "[I 2025-03-02 12:00:34,700] Trial 8 finished with value: 0.5350644985990609 and parameters: {'n_factors': 10, 'alpha': 9.539969835279999, 'regularization': 7.2866537374910445, 'iterations': 45}. Best is trial 8 with value: 0.5350644985990609.\n",
      "[I 2025-03-02 12:00:36,065] Trial 9 finished with value: 0.5186129264717992 and parameters: {'n_factors': 40, 'alpha': 1.8790490260574548, 'regularization': 0.5456725485601477, 'iterations': 25}. Best is trial 8 with value: 0.5350644985990609.\n",
      "[I 2025-03-02 12:00:37,393] Trial 10 finished with value: 0.5397165731864676 and parameters: {'n_factors': 5, 'alpha': 5.259945893092016, 'regularization': 7.553503645583182, 'iterations': 40}. Best is trial 10 with value: 0.5397165731864676.\n",
      "[I 2025-03-02 12:00:38,720] Trial 11 finished with value: 0.5393705536015845 and parameters: {'n_factors': 5, 'alpha': 4.61498314741031, 'regularization': 8.879907505283905, 'iterations': 40}. Best is trial 10 with value: 0.5397165731864676.\n",
      "[I 2025-03-02 12:00:40,049] Trial 12 finished with value: 0.5391961236913081 and parameters: {'n_factors': 5, 'alpha': 4.41643819078201, 'regularization': 9.624592377924772, 'iterations': 40}. Best is trial 10 with value: 0.5397165731864676.\n",
      "[I 2025-03-02 12:00:41,427] Trial 13 finished with value: 0.5219137358012783 and parameters: {'n_factors': 25, 'alpha': 4.7357227142908025, 'regularization': 2.700549896257113, 'iterations': 35}. Best is trial 10 with value: 0.5397165731864676.\n",
      "[I 2025-03-02 12:00:43,035] Trial 14 finished with value: 0.4953760955120515 and parameters: {'n_factors': 115, 'alpha': 6.184093127999905, 'regularization': 2.138515793644244, 'iterations': 40}. Best is trial 10 with value: 0.5397165731864676.\n",
      "[I 2025-03-02 12:00:44,527] Trial 15 finished with value: 0.5191406958425616 and parameters: {'n_factors': 25, 'alpha': 3.7311292483294904, 'regularization': 0.1174333013944252, 'iterations': 50}. Best is trial 10 with value: 0.5397165731864676.\n",
      "[I 2025-03-02 12:00:45,824] Trial 16 finished with value: 0.5391854463265187 and parameters: {'n_factors': 5, 'alpha': 6.328739149886596, 'regularization': 2.575817056012468, 'iterations': 35}. Best is trial 10 with value: 0.5397165731864676.\n",
      "[I 2025-03-02 12:00:47,236] Trial 17 finished with value: 0.5254251225560431 and parameters: {'n_factors': 20, 'alpha': 3.7509794100230964, 'regularization': 9.941450502972565, 'iterations': 40}. Best is trial 10 with value: 0.5397165731864676.\n",
      "[I 2025-03-02 12:00:48,697] Trial 18 finished with value: 0.5189380573687883 and parameters: {'n_factors': 35, 'alpha': 6.9706578575078435, 'regularization': 1.3845451462255045, 'iterations': 30}. Best is trial 10 with value: 0.5397165731864676.\n",
      "[I 2025-03-02 12:00:50,338] Trial 19 finished with value: 0.5043904432950574 and parameters: {'n_factors': 90, 'alpha': 4.650513239665131, 'regularization': 0.3815271074896833, 'iterations': 45}. Best is trial 10 with value: 0.5397165731864676.\n",
      "[I 2025-03-02 12:00:51,790] Trial 20 finished with value: 0.517035310138563 and parameters: {'n_factors': 55, 'alpha': 5.225795397171975, 'regularization': 4.296997777221054, 'iterations': 30}. Best is trial 10 with value: 0.5397165731864676.\n",
      "[I 2025-03-02 12:00:53,120] Trial 21 finished with value: 0.5392349171166154 and parameters: {'n_factors': 5, 'alpha': 4.139215198073538, 'regularization': 9.752186225206831, 'iterations': 40}. Best is trial 10 with value: 0.5397165731864676.\n",
      "[I 2025-03-02 12:00:54,531] Trial 22 finished with value: 0.5264805921526793 and parameters: {'n_factors': 15, 'alpha': 3.3686364321545743, 'regularization': 3.851247325286885, 'iterations': 40}. Best is trial 10 with value: 0.5397165731864676.\n",
      "[I 2025-03-02 12:00:55,892] Trial 23 finished with value: 0.539070950223506 and parameters: {'n_factors': 5, 'alpha': 5.284389019940258, 'regularization': 1.2671256184220392, 'iterations': 45}. Best is trial 10 with value: 0.5397165731864676.\n",
      "[I 2025-03-02 12:00:57,279] Trial 24 finished with value: 0.5214939322043353 and parameters: {'n_factors': 30, 'alpha': 4.211110941550928, 'regularization': 6.6673254516234275, 'iterations': 35}. Best is trial 10 with value: 0.5397165731864676.\n",
      "[I 2025-03-02 12:00:58,759] Trial 25 finished with value: 0.526945226868782 and parameters: {'n_factors': 15, 'alpha': 3.2127176797895105, 'regularization': 0.1102458364866328, 'iterations': 50}. Best is trial 10 with value: 0.5397165731864676.\n",
      "[I 2025-03-02 12:01:00,164] Trial 26 finished with value: 0.5291958659400126 and parameters: {'n_factors': 15, 'alpha': 5.625836187657038, 'regularization': 4.457375897200568, 'iterations': 40}. Best is trial 10 with value: 0.5397165731864676.\n",
      "[I 2025-03-02 12:01:01,545] Trial 27 finished with value: 0.5183727739345012 and parameters: {'n_factors': 30, 'alpha': 8.325943350200486, 'regularization': 1.5293380668883045, 'iterations': 35}. Best is trial 10 with value: 0.5397165731864676.\n",
      "[I 2025-03-02 12:01:02,772] Trial 28 finished with value: 0.5179441432181353 and parameters: {'n_factors': 50, 'alpha': 6.20958075962863, 'regularization': 0.8129386790931211, 'iterations': 10}. Best is trial 10 with value: 0.5397165731864676.\n",
      "[I 2025-03-02 12:01:04,300] Trial 29 finished with value: 0.5136544063323409 and parameters: {'n_factors': 65, 'alpha': 4.059296979421747, 'regularization': 0.03162625418092019, 'iterations': 35}. Best is trial 10 with value: 0.5397165731864676.\n",
      "[I 2025-03-02 12:01:05,550] Trial 30 finished with value: 0.5391635471556111 and parameters: {'n_factors': 5, 'alpha': 5.001566817596278, 'regularization': 0.21095517939947206, 'iterations': 25}. Best is trial 10 with value: 0.5397165731864676.\n",
      "[I 2025-03-02 12:01:06,889] Trial 31 finished with value: 0.5392481653893323 and parameters: {'n_factors': 5, 'alpha': 4.450457723608094, 'regularization': 9.75923460576829, 'iterations': 40}. Best is trial 10 with value: 0.5397165731864676.\n",
      "[I 2025-03-02 12:01:08,337] Trial 32 finished with value: 0.5270714823513835 and parameters: {'n_factors': 15, 'alpha': 2.6892896755044937, 'regularization': 4.694786842099552, 'iterations': 45}. Best is trial 10 with value: 0.5397165731864676.\n",
      "[I 2025-03-02 12:01:09,760] Trial 33 finished with value: 0.5242061203287025 and parameters: {'n_factors': 20, 'alpha': 6.80813478960348, 'regularization': 9.940714347969008, 'iterations': 40}. Best is trial 10 with value: 0.5397165731864676.\n",
      "[I 2025-03-02 12:01:11,183] Trial 34 finished with value: 0.5343750943341924 and parameters: {'n_factors': 10, 'alpha': 3.688598588070267, 'regularization': 2.950954776788369, 'iterations': 45}. Best is trial 10 with value: 0.5397165731864676.\n",
      "[I 2025-03-02 12:01:12,567] Trial 35 finished with value: 0.5189815903456435 and parameters: {'n_factors': 30, 'alpha': 4.658166444095475, 'regularization': 5.823554887210431, 'iterations': 35}. Best is trial 10 with value: 0.5397165731864676.\n",
      "[I 2025-03-02 12:01:14,060] Trial 36 finished with value: 0.5230643693097904 and parameters: {'n_factors': 20, 'alpha': 5.696829672413986, 'regularization': 0.7862415599642832, 'iterations': 50}. Best is trial 10 with value: 0.5397165731864676.\n",
      "[I 2025-03-02 12:01:15,446] Trial 37 finished with value: 0.5339918595619798 and parameters: {'n_factors': 10, 'alpha': 3.049165950724574, 'regularization': 1.8749894800844291, 'iterations': 40}. Best is trial 10 with value: 0.5397165731864676.\n",
      "[I 2025-03-02 12:01:17,077] Trial 38 finished with value: 0.5209018945340605 and parameters: {'n_factors': 40, 'alpha': 4.137671354597583, 'regularization': 6.201942028935875, 'iterations': 45}. Best is trial 10 with value: 0.5397165731864676.\n",
      "[I 2025-03-02 12:01:18,599] Trial 39 finished with value: 0.4928260759995226 and parameters: {'n_factors': 120, 'alpha': 2.556453743195042, 'regularization': 0.0045433334273779205, 'iterations': 30}. Best is trial 10 with value: 0.5397165731864676.\n",
      "[I 2025-03-02 12:01:19,970] Trial 40 finished with value: 0.5391947683581498 and parameters: {'n_factors': 5, 'alpha': 7.87010042055167, 'regularization': 3.398209153895047, 'iterations': 45}. Best is trial 10 with value: 0.5397165731864676.\n",
      "[I 2025-03-02 12:01:21,362] Trial 41 finished with value: 0.5352957329440101 and parameters: {'n_factors': 10, 'alpha': 4.551918136173418, 'regularization': 9.434720446755657, 'iterations': 40}. Best is trial 10 with value: 0.5397165731864676.\n",
      "[I 2025-03-02 12:01:22,700] Trial 42 finished with value: 0.539293953253152 and parameters: {'n_factors': 5, 'alpha': 4.344011221841978, 'regularization': 5.991756717183528, 'iterations': 40}. Best is trial 10 with value: 0.5397165731864676.\n",
      "[I 2025-03-02 12:01:24,087] Trial 43 finished with value: 0.5206409448968704 and parameters: {'n_factors': 25, 'alpha': 5.372483964855903, 'regularization': 5.430207825202575, 'iterations': 35}. Best is trial 10 with value: 0.5397165731864676.\n",
      "[I 2025-03-02 12:01:25,469] Trial 44 finished with value: 0.5346511343155582 and parameters: {'n_factors': 10, 'alpha': 4.932002952664872, 'regularization': 6.499763335813388, 'iterations': 40}. Best is trial 10 with value: 0.5397165731864676.\n",
      "[I 2025-03-02 12:01:26,831] Trial 45 finished with value: 0.5391651366093498 and parameters: {'n_factors': 5, 'alpha': 1.1250780236111488, 'regularization': 2.392390926965474, 'iterations': 45}. Best is trial 10 with value: 0.5397165731864676.\n",
      "[I 2025-03-02 12:01:28,172] Trial 46 finished with value: 0.5228104900730065 and parameters: {'n_factors': 20, 'alpha': 2.1403461044327394, 'regularization': 1.2008715760457849, 'iterations': 30}. Best is trial 10 with value: 0.5397165731864676.\n",
      "[I 2025-03-02 12:01:29,588] Trial 47 finished with value: 0.5053185817210537 and parameters: {'n_factors': 90, 'alpha': 5.97018602504031, 'regularization': 3.5367904131224046, 'iterations': 25}. Best is trial 10 with value: 0.5397165731864676.\n",
      "[I 2025-03-02 12:01:31,070] Trial 48 finished with value: 0.5284448630331974 and parameters: {'n_factors': 15, 'alpha': 3.5748522551359496, 'regularization': 8.409896241647177, 'iterations': 50}. Best is trial 10 with value: 0.5397165731864676.\n",
      "[I 2025-03-02 12:01:32,487] Trial 49 finished with value: 0.5200082239310387 and parameters: {'n_factors': 25, 'alpha': 4.113208133191835, 'regularization': 0.057802398775783886, 'iterations': 40}. Best is trial 10 with value: 0.5397165731864676.\n",
      "[I 2025-03-02 12:01:34,043] Trial 50 finished with value: 0.5202466842755249 and parameters: {'n_factors': 35, 'alpha': 4.983077085447805, 'regularization': 0.0017471172841015308, 'iterations': 40}. Best is trial 10 with value: 0.5397165731864676.\n",
      "[I 2025-03-02 12:01:35,372] Trial 51 finished with value: 0.5393004564930035 and parameters: {'n_factors': 5, 'alpha': 4.430113664358189, 'regularization': 6.993798732079165, 'iterations': 40}. Best is trial 10 with value: 0.5397165731864676.\n",
      "[I 2025-03-02 12:01:36,711] Trial 52 finished with value: 0.5393034817667851 and parameters: {'n_factors': 5, 'alpha': 4.509291497648096, 'regularization': 6.153679268568383, 'iterations': 40}. Best is trial 10 with value: 0.5397165731864676.\n",
      "[I 2025-03-02 12:01:38,057] Trial 53 finished with value: 0.5343749892800822 and parameters: {'n_factors': 10, 'alpha': 4.3933393841930215, 'regularization': 2.0618127677420177, 'iterations': 35}. Best is trial 10 with value: 0.5397165731864676.\n",
      "[I 2025-03-02 12:01:39,442] Trial 54 finished with value: 0.5393421910519952 and parameters: {'n_factors': 5, 'alpha': 5.141947846211183, 'regularization': 5.566693367403869, 'iterations': 45}. Best is trial 10 with value: 0.5397165731864676.\n",
      "[I 2025-03-02 12:01:40,906] Trial 55 finished with value: 0.527374918016261 and parameters: {'n_factors': 15, 'alpha': 6.705694114574886, 'regularization': 3.192445022604735, 'iterations': 45}. Best is trial 10 with value: 0.5397165731864676.\n",
      "[I 2025-03-02 12:01:42,356] Trial 56 finished with value: 0.5346301765801985 and parameters: {'n_factors': 10, 'alpha': 5.839258904024021, 'regularization': 5.10104115209458, 'iterations': 45}. Best is trial 10 with value: 0.5397165731864676.\n",
      "[I 2025-03-02 12:01:43,882] Trial 57 finished with value: 0.5233512363011501 and parameters: {'n_factors': 20, 'alpha': 5.258520111168943, 'regularization': 6.5704907592587025, 'iterations': 50}. Best is trial 10 with value: 0.5397165731864676.\n",
      "[I 2025-03-02 12:01:45,503] Trial 58 finished with value: 0.5094235559560738 and parameters: {'n_factors': 70, 'alpha': 4.86907526695256, 'regularization': 1.04501799670065, 'iterations': 40}. Best is trial 10 with value: 0.5397165731864676.\n",
      "[I 2025-03-02 12:01:46,845] Trial 59 finished with value: 0.5391188290829868 and parameters: {'n_factors': 5, 'alpha': 5.511670769749659, 'regularization': 0.6078843534093975, 'iterations': 35}. Best is trial 10 with value: 0.5397165731864676.\n",
      "[I 2025-03-02 12:01:48,321] Trial 60 finished with value: 0.5270882414292186 and parameters: {'n_factors': 15, 'alpha': 6.4448827134097, 'regularization': 1.7494492093821308, 'iterations': 45}. Best is trial 10 with value: 0.5397165731864676.\n",
      "[I 2025-03-02 12:01:49,663] Trial 61 finished with value: 0.5391990285995699 and parameters: {'n_factors': 5, 'alpha': 3.797784277735595, 'regularization': 4.353841866548565, 'iterations': 40}. Best is trial 10 with value: 0.5397165731864676.\n",
      "[I 2025-03-02 12:01:50,997] Trial 62 finished with value: 0.5391221016973533 and parameters: {'n_factors': 5, 'alpha': 4.520997088057125, 'regularization': 7.413982764594141, 'iterations': 40}. Best is trial 10 with value: 0.5397165731864676.\n",
      "[I 2025-03-02 12:01:52,416] Trial 63 finished with value: 0.5343491629147079 and parameters: {'n_factors': 10, 'alpha': 5.07946182785699, 'regularization': 2.856598817480149, 'iterations': 45}. Best is trial 10 with value: 0.5397165731864676.\n",
      "[I 2025-03-02 12:01:53,805] Trial 64 finished with value: 0.5350948133473052 and parameters: {'n_factors': 10, 'alpha': 3.840945988251417, 'regularization': 7.645029449171732, 'iterations': 40}. Best is trial 10 with value: 0.5397165731864676.\n",
      "[I 2025-03-02 12:01:55,190] Trial 65 finished with value: 0.524674624402904 and parameters: {'n_factors': 20, 'alpha': 9.927608188269234, 'regularization': 4.611927335931801, 'iterations': 35}. Best is trial 10 with value: 0.5397165731864676.\n",
      "[I 2025-03-02 12:01:56,528] Trial 66 finished with value: 0.5392901497004087 and parameters: {'n_factors': 5, 'alpha': 3.3108533038269257, 'regularization': 3.881657164511124, 'iterations': 40}. Best is trial 10 with value: 0.5397165731864676.\n",
      "[I 2025-03-02 12:01:58,201] Trial 67 finished with value: 0.5016837152929199 and parameters: {'n_factors': 105, 'alpha': 3.4142615144494384, 'regularization': 3.6466204366357142, 'iterations': 45}. Best is trial 10 with value: 0.5397165731864676.\n",
      "[I 2025-03-02 12:01:59,452] Trial 68 finished with value: 0.5273798912419289 and parameters: {'n_factors': 15, 'alpha': 3.178999817331134, 'regularization': 2.471442152661159, 'iterations': 15}. Best is trial 10 with value: 0.5397165731864676.\n",
      "[I 2025-03-02 12:02:00,841] Trial 69 finished with value: 0.5218964548776831 and parameters: {'n_factors': 25, 'alpha': 1.6992269196838783, 'regularization': 0.20418753351323293, 'iterations': 35}. Best is trial 10 with value: 0.5397165731864676.\n",
      "[I 2025-03-02 12:02:02,443] Trial 70 finished with value: 0.5128036626787904 and parameters: {'n_factors': 80, 'alpha': 2.7787013079952754, 'regularization': 5.4084306898308485, 'iterations': 40}. Best is trial 10 with value: 0.5397165731864676.\n",
      "[I 2025-03-02 12:02:03,786] Trial 71 finished with value: 0.5392798668648736 and parameters: {'n_factors': 5, 'alpha': 4.44599605724696, 'regularization': 7.533248355180927, 'iterations': 40}. Best is trial 10 with value: 0.5397165731864676.\n",
      "[I 2025-03-02 12:02:05,102] Trial 72 finished with value: 0.5390573672491664 and parameters: {'n_factors': 5, 'alpha': 4.749233398217261, 'regularization': 8.043162477359763, 'iterations': 35}. Best is trial 10 with value: 0.5397165731864676.\n",
      "[I 2025-03-02 12:02:06,490] Trial 73 finished with value: 0.5344493234734988 and parameters: {'n_factors': 10, 'alpha': 4.4181346946517035, 'regularization': 3.893557861313057, 'iterations': 40}. Best is trial 10 with value: 0.5397165731864676.\n",
      "[I 2025-03-02 12:02:07,981] Trial 74 finished with value: 0.527846434008575 and parameters: {'n_factors': 15, 'alpha': 3.988975437938292, 'regularization': 5.985182971720852, 'iterations': 50}. Best is trial 10 with value: 0.5397165731864676.\n",
      "[I 2025-03-02 12:02:09,326] Trial 75 finished with value: 0.5389362269908886 and parameters: {'n_factors': 5, 'alpha': 4.255790090867897, 'regularization': 0.011869877675738884, 'iterations': 40}. Best is trial 10 with value: 0.5397165731864676.\n",
      "[I 2025-03-02 12:02:10,755] Trial 76 finished with value: 0.5349883417639618 and parameters: {'n_factors': 10, 'alpha': 3.4619950189822135, 'regularization': 6.930090975602417, 'iterations': 45}. Best is trial 10 with value: 0.5397165731864676.\n",
      "[I 2025-03-02 12:02:12,067] Trial 77 finished with value: 0.5392462890640946 and parameters: {'n_factors': 5, 'alpha': 6.001724763521068, 'regularization': 4.508168025408605, 'iterations': 35}. Best is trial 10 with value: 0.5397165731864676.\n",
      "[I 2025-03-02 12:02:13,638] Trial 78 finished with value: 0.5195549274819958 and parameters: {'n_factors': 45, 'alpha': 4.753313548139598, 'regularization': 9.935322456359282, 'iterations': 40}. Best is trial 10 with value: 0.5397165731864676.\n",
      "[I 2025-03-02 12:02:15,103] Trial 79 finished with value: 0.5237876377276852 and parameters: {'n_factors': 20, 'alpha': 5.483961764561408, 'regularization': 1.6773195923590825, 'iterations': 45}. Best is trial 10 with value: 0.5397165731864676.\n",
      "[I 2025-03-02 12:02:16,489] Trial 80 finished with value: 0.5342292261306806 and parameters: {'n_factors': 10, 'alpha': 3.8782660136997373, 'regularization': 2.79872622297769, 'iterations': 35}. Best is trial 10 with value: 0.5397165731864676.\n",
      "[I 2025-03-02 12:02:17,830] Trial 81 finished with value: 0.5393191723831889 and parameters: {'n_factors': 5, 'alpha': 5.141370454402694, 'regularization': 7.970682062761255, 'iterations': 40}. Best is trial 10 with value: 0.5397165731864676.\n",
      "[I 2025-03-02 12:02:19,170] Trial 82 finished with value: 0.5392580722346563 and parameters: {'n_factors': 5, 'alpha': 5.159403595033205, 'regularization': 7.628308811788625, 'iterations': 40}. Best is trial 10 with value: 0.5397165731864676.\n",
      "[I 2025-03-02 12:02:20,586] Trial 83 finished with value: 0.5272513029451737 and parameters: {'n_factors': 15, 'alpha': 4.281107484724813, 'regularization': 5.389089001240649, 'iterations': 40}. Best is trial 10 with value: 0.5397165731864676.\n",
      "[I 2025-03-02 12:02:22,019] Trial 84 finished with value: 0.534475472897626 and parameters: {'n_factors': 10, 'alpha': 5.629377134529402, 'regularization': 3.7716887419313156, 'iterations': 45}. Best is trial 10 with value: 0.5397165731864676.\n",
      "[I 2025-03-02 12:02:23,365] Trial 85 finished with value: 0.5394212969756549 and parameters: {'n_factors': 5, 'alpha': 4.664387651523468, 'regularization': 7.904260826238786, 'iterations': 40}. Best is trial 10 with value: 0.5397165731864676.\n",
      "[I 2025-03-02 12:02:24,786] Trial 86 finished with value: 0.5264296513905429 and parameters: {'n_factors': 15, 'alpha': 5.322429446319359, 'regularization': 5.595164272674301, 'iterations': 40}. Best is trial 10 with value: 0.5397165731864676.\n",
      "[I 2025-03-02 12:02:26,146] Trial 87 finished with value: 0.5351699277959049 and parameters: {'n_factors': 10, 'alpha': 4.836308218682081, 'regularization': 8.970313720325743, 'iterations': 35}. Best is trial 10 with value: 0.5397165731864676.\n",
      "[I 2025-03-02 12:02:27,514] Trial 88 finished with value: 0.5392577556954676 and parameters: {'n_factors': 5, 'alpha': 4.655493307587387, 'regularization': 4.797430608116296, 'iterations': 45}. Best is trial 10 with value: 0.5397165731864676.\n",
      "[I 2025-03-02 12:02:28,941] Trial 89 finished with value: 0.5236049233790607 and parameters: {'n_factors': 20, 'alpha': 5.190138760734389, 'regularization': 2.125984867521522, 'iterations': 40}. Best is trial 10 with value: 0.5397165731864676.\n",
      "[I 2025-03-02 12:02:30,395] Trial 90 finished with value: 0.527682992375738 and parameters: {'n_factors': 15, 'alpha': 5.028874463584594, 'regularization': 2.982677118117858, 'iterations': 45}. Best is trial 10 with value: 0.5397165731864676.\n",
      "[I 2025-03-02 12:02:31,735] Trial 91 finished with value: 0.5393683379035165 and parameters: {'n_factors': 5, 'alpha': 4.5147970984972, 'regularization': 6.903342889157234, 'iterations': 40}. Best is trial 10 with value: 0.5397165731864676.\n",
      "[I 2025-03-02 12:02:33,073] Trial 92 finished with value: 0.5392569810531269 and parameters: {'n_factors': 5, 'alpha': 4.022253176368509, 'regularization': 6.824043675896915, 'iterations': 40}. Best is trial 10 with value: 0.5397165731864676.\n",
      "[I 2025-03-02 12:02:34,464] Trial 93 finished with value: 0.5353787362030885 and parameters: {'n_factors': 10, 'alpha': 4.593654685003978, 'regularization': 9.943630337950443, 'iterations': 40}. Best is trial 10 with value: 0.5397165731864676.\n",
      "[I 2025-03-02 12:02:35,807] Trial 94 finished with value: 0.539357980042303 and parameters: {'n_factors': 5, 'alpha': 5.816690294271652, 'regularization': 6.149126354124897, 'iterations': 40}. Best is trial 10 with value: 0.5397165731864676.\n",
      "[I 2025-03-02 12:02:37,165] Trial 95 finished with value: 0.5345208138436998 and parameters: {'n_factors': 10, 'alpha': 5.835739533173617, 'regularization': 5.9947108604662285, 'iterations': 35}. Best is trial 10 with value: 0.5397165731864676.\n",
      "[I 2025-03-02 12:02:38,741] Trial 96 finished with value: 0.5198802779627468 and parameters: {'n_factors': 55, 'alpha': 6.485572156104553, 'regularization': 8.2103476952621, 'iterations': 40}. Best is trial 10 with value: 0.5397165731864676.\n",
      "[I 2025-03-02 12:02:40,009] Trial 97 finished with value: 0.5275169037756017 and parameters: {'n_factors': 15, 'alpha': 6.139665324906957, 'regularization': 6.096110945418665, 'iterations': 20}. Best is trial 10 with value: 0.5397165731864676.\n",
      "[I 2025-03-02 12:02:41,325] Trial 98 finished with value: 0.5392578740721131 and parameters: {'n_factors': 5, 'alpha': 5.443455642874934, 'regularization': 4.870149110058594, 'iterations': 35}. Best is trial 10 with value: 0.5397165731864676.\n",
      "[I 2025-03-02 12:02:42,746] Trial 99 finished with value: 0.5343253006367983 and parameters: {'n_factors': 10, 'alpha': 7.290526430327173, 'regularization': 2.4993077268425727, 'iterations': 45}. Best is trial 10 with value: 0.5397165731864676.\n",
      "[I 2025-03-02 12:02:44,087] Trial 100 finished with value: 0.5391961065204904 and parameters: {'n_factors': 5, 'alpha': 4.938084423807972, 'regularization': 3.2976246061734504, 'iterations': 40}. Best is trial 10 with value: 0.5397165731864676.\n",
      "[I 2025-03-02 12:02:45,430] Trial 101 finished with value: 0.5391807027874973 and parameters: {'n_factors': 5, 'alpha': 9.033940386090718, 'regularization': 4.201241698544029, 'iterations': 40}. Best is trial 10 with value: 0.5397165731864676.\n",
      "[I 2025-03-02 12:02:46,820] Trial 102 finished with value: 0.5351655930279644 and parameters: {'n_factors': 10, 'alpha': 4.239767264695276, 'regularization': 7.718968455214775, 'iterations': 40}. Best is trial 10 with value: 0.5397165731864676.\n",
      "[I 2025-03-02 12:02:48,167] Trial 103 finished with value: 0.5393029535207634 and parameters: {'n_factors': 5, 'alpha': 5.106109533833645, 'regularization': 6.527696538979131, 'iterations': 40}. Best is trial 10 with value: 0.5397165731864676.\n",
      "[I 2025-03-02 12:02:49,586] Trial 104 finished with value: 0.5276896820056015 and parameters: {'n_factors': 15, 'alpha': 5.079268664954951, 'regularization': 6.485383991317259, 'iterations': 40}. Best is trial 10 with value: 0.5397165731864676.\n",
      "[I 2025-03-02 12:02:50,928] Trial 105 finished with value: 0.5394243410956322 and parameters: {'n_factors': 5, 'alpha': 5.716244555902107, 'regularization': 7.957527874574708, 'iterations': 40}. Best is trial 10 with value: 0.5397165731864676.\n",
      "[I 2025-03-02 12:02:52,288] Trial 106 finished with value: 0.5352625415468812 and parameters: {'n_factors': 10, 'alpha': 5.7922476404577665, 'regularization': 8.008532046157372, 'iterations': 35}. Best is trial 10 with value: 0.5397165731864676.\n",
      "[I 2025-03-02 12:02:53,634] Trial 107 finished with value: 0.539268460068271 and parameters: {'n_factors': 5, 'alpha': 5.615296138496353, 'regularization': 5.15470830913062, 'iterations': 40}. Best is trial 10 with value: 0.5397165731864676.\n",
      "[I 2025-03-02 12:02:55,097] Trial 108 finished with value: 0.5253487596670312 and parameters: {'n_factors': 20, 'alpha': 5.349232499641822, 'regularization': 8.773126387922003, 'iterations': 45}. Best is trial 10 with value: 0.5397165731864676.\n",
      "[I 2025-03-02 12:02:56,484] Trial 109 finished with value: 0.533941295328422 and parameters: {'n_factors': 10, 'alpha': 6.010347046780378, 'regularization': 0.0808411966445151, 'iterations': 40}. Best is trial 10 with value: 0.5397165731864676.\n",
      "[I 2025-03-02 12:02:58,115] Trial 110 finished with value: 0.5137852189104525 and parameters: {'n_factors': 60, 'alpha': 4.788938961770708, 'regularization': 0.3603145983188665, 'iterations': 45}. Best is trial 10 with value: 0.5397165731864676.\n",
      "[I 2025-03-02 12:02:59,453] Trial 111 finished with value: 0.5391139162640234 and parameters: {'n_factors': 5, 'alpha': 4.516335284381971, 'regularization': 6.658905268193506, 'iterations': 40}. Best is trial 10 with value: 0.5397165731864676.\n",
      "[I 2025-03-02 12:03:00,796] Trial 112 finished with value: 0.5392051929759618 and parameters: {'n_factors': 5, 'alpha': 4.936960633144735, 'regularization': 3.952272937437117, 'iterations': 40}. Best is trial 10 with value: 0.5397165731864676.\n",
      "[I 2025-03-02 12:03:02,196] Trial 113 finished with value: 0.5346093791789769 and parameters: {'n_factors': 10, 'alpha': 3.6429418107904494, 'regularization': 4.901480403411765, 'iterations': 40}. Best is trial 10 with value: 0.5397165731864676.\n",
      "[I 2025-03-02 12:03:03,508] Trial 114 finished with value: 0.5392735775761497 and parameters: {'n_factors': 5, 'alpha': 5.198257168016013, 'regularization': 8.60209402274579, 'iterations': 35}. Best is trial 10 with value: 0.5397165731864676.\n",
      "[I 2025-03-02 12:03:04,926] Trial 115 finished with value: 0.5276274102537044 and parameters: {'n_factors': 15, 'alpha': 4.6385401355310885, 'regularization': 5.958070593118771, 'iterations': 40}. Best is trial 10 with value: 0.5397165731864676.\n",
      "[I 2025-03-02 12:03:06,296] Trial 116 finished with value: 0.5392140100374415 and parameters: {'n_factors': 5, 'alpha': 4.320848556586462, 'regularization': 3.422455476931871, 'iterations': 45}. Best is trial 10 with value: 0.5397165731864676.\n",
      "[I 2025-03-02 12:03:07,690] Trial 117 finished with value: 0.5352738031356126 and parameters: {'n_factors': 10, 'alpha': 5.535699496152469, 'regularization': 9.474557973277287, 'iterations': 40}. Best is trial 10 with value: 0.5397165731864676.\n",
      "[I 2025-03-02 12:03:09,074] Trial 118 finished with value: 0.529349763354439 and parameters: {'n_factors': 15, 'alpha': 4.0589590858208595, 'regularization': 6.41327956770472, 'iterations': 35}. Best is trial 10 with value: 0.5397165731864676.\n",
      "[I 2025-03-02 12:03:10,419] Trial 119 finished with value: 0.5390237323618752 and parameters: {'n_factors': 5, 'alpha': 5.338529882535279, 'regularization': 0.026861946935998218, 'iterations': 40}. Best is trial 10 with value: 0.5397165731864676.\n",
      "[I 2025-03-02 12:03:11,844] Trial 120 finished with value: 0.5345171123998872 and parameters: {'n_factors': 10, 'alpha': 4.8081834615357835, 'regularization': 4.16728629799157, 'iterations': 45}. Best is trial 10 with value: 0.5397165731864676.\n",
      "[I 2025-03-02 12:03:13,188] Trial 121 finished with value: 0.5392663043693904 and parameters: {'n_factors': 5, 'alpha': 5.720702168162497, 'regularization': 7.253727228366916, 'iterations': 40}. Best is trial 10 with value: 0.5397165731864676.\n",
      "[I 2025-03-02 12:03:14,532] Trial 122 finished with value: 0.5393428226423508 and parameters: {'n_factors': 5, 'alpha': 2.1809666680662687, 'regularization': 4.39941086110931, 'iterations': 40}. Best is trial 10 with value: 0.5397165731864676.\n",
      "[I 2025-03-02 12:03:15,886] Trial 123 finished with value: 0.539281391029307 and parameters: {'n_factors': 5, 'alpha': 6.3916817374952695, 'regularization': 5.23002732139084, 'iterations': 40}. Best is trial 10 with value: 0.5397165731864676.\n",
      "[I 2025-03-02 12:03:17,284] Trial 124 finished with value: 0.5351086168341439 and parameters: {'n_factors': 10, 'alpha': 1.999635157969509, 'regularization': 7.244397630501568, 'iterations': 40}. Best is trial 10 with value: 0.5397165731864676.\n",
      "[I 2025-03-02 12:03:18,629] Trial 125 finished with value: 0.5392547713574448 and parameters: {'n_factors': 5, 'alpha': 2.354973572398932, 'regularization': 4.516083270602719, 'iterations': 40}. Best is trial 10 with value: 0.5397165731864676.\n",
      "[I 2025-03-02 12:03:20,089] Trial 126 finished with value: 0.5353473635590397 and parameters: {'n_factors': 10, 'alpha': 1.2232719986458882, 'regularization': 9.752461902572177, 'iterations': 50}. Best is trial 10 with value: 0.5397165731864676.\n",
      "[I 2025-03-02 12:03:21,509] Trial 127 finished with value: 0.5271939670647325 and parameters: {'n_factors': 15, 'alpha': 6.208405184888715, 'regularization': 5.660783990064328, 'iterations': 40}. Best is trial 10 with value: 0.5397165731864676.\n",
      "[I 2025-03-02 12:03:22,822] Trial 128 finished with value: 0.5392543460585 and parameters: {'n_factors': 5, 'alpha': 1.702244822653145, 'regularization': 3.0900221042211027, 'iterations': 35}. Best is trial 10 with value: 0.5397165731864676.\n",
      "[I 2025-03-02 12:03:24,008] Trial 129 finished with value: 0.5357840311612044 and parameters: {'n_factors': 10, 'alpha': 5.109136895957216, 'regularization': 8.04710503699647, 'iterations': 10}. Best is trial 10 with value: 0.5397165731864676.\n",
      "[I 2025-03-02 12:03:25,351] Trial 130 finished with value: 0.5390226673530039 and parameters: {'n_factors': 5, 'alpha': 4.441732365866748, 'regularization': 5.449155319480858, 'iterations': 40}. Best is trial 10 with value: 0.5397165731864676.\n",
      "[I 2025-03-02 12:03:26,697] Trial 131 finished with value: 0.5392234635501529 and parameters: {'n_factors': 5, 'alpha': 2.5298787040831145, 'regularization': 4.345013657212727, 'iterations': 40}. Best is trial 10 with value: 0.5397165731864676.\n",
      "[I 2025-03-02 12:03:28,101] Trial 132 finished with value: 0.5344251938649035 and parameters: {'n_factors': 10, 'alpha': 2.9668016299026525, 'regularization': 3.5300913774088305, 'iterations': 40}. Best is trial 10 with value: 0.5397165731864676.\n",
      "[I 2025-03-02 12:03:29,447] Trial 133 finished with value: 0.5392497216239505 and parameters: {'n_factors': 5, 'alpha': 4.933875780430203, 'regularization': 6.694230579987428, 'iterations': 40}. Best is trial 10 with value: 0.5397165731864676.\n",
      "[I 2025-03-02 12:03:30,844] Trial 134 finished with value: 0.5352271168892004 and parameters: {'n_factors': 10, 'alpha': 3.1583280535936233, 'regularization': 8.19951231090594, 'iterations': 40}. Best is trial 10 with value: 0.5397165731864676.\n",
      "[I 2025-03-02 12:03:32,189] Trial 135 finished with value: 0.5393860828649311 and parameters: {'n_factors': 5, 'alpha': 4.631388048144311, 'regularization': 3.9560752525069978, 'iterations': 40}. Best is trial 10 with value: 0.5397165731864676.\n",
      "[I 2025-03-02 12:03:33,845] Trial 136 finished with value: 0.511371252138418 and parameters: {'n_factors': 80, 'alpha': 4.604444953035576, 'regularization': 6.0051454135902365, 'iterations': 45}. Best is trial 10 with value: 0.5397165731864676.\n",
      "[I 2025-03-02 12:03:35,162] Trial 137 finished with value: 0.5394219538166651 and parameters: {'n_factors': 5, 'alpha': 5.248090779759146, 'regularization': 4.899325895904742, 'iterations': 35}. Best is trial 10 with value: 0.5397165731864676.\n",
      "[I 2025-03-02 12:03:36,547] Trial 138 finished with value: 0.5288742442645952 and parameters: {'n_factors': 15, 'alpha': 5.426461457364932, 'regularization': 9.992614791522149, 'iterations': 35}. Best is trial 10 with value: 0.5397165731864676.\n",
      "[I 2025-03-02 12:03:37,835] Trial 139 finished with value: 0.5389807174682024 and parameters: {'n_factors': 5, 'alpha': 5.926690744021985, 'regularization': 2.5136478735060765, 'iterations': 30}. Best is trial 10 with value: 0.5397165731864676.\n",
      "[I 2025-03-02 12:03:39,196] Trial 140 finished with value: 0.5345847010599626 and parameters: {'n_factors': 10, 'alpha': 5.271713133977849, 'regularization': 4.890702450967864, 'iterations': 35}. Best is trial 10 with value: 0.5397165731864676.\n",
      "[I 2025-03-02 12:03:40,542] Trial 141 finished with value: 0.5392763646899128 and parameters: {'n_factors': 5, 'alpha': 4.790230117491033, 'regularization': 6.958911977110997, 'iterations': 40}. Best is trial 10 with value: 0.5397165731864676.\n",
      "[I 2025-03-02 12:03:41,886] Trial 142 finished with value: 0.5392001646531673 and parameters: {'n_factors': 5, 'alpha': 5.110143907562118, 'regularization': 3.8220675311297017, 'iterations': 40}. Best is trial 10 with value: 0.5397165731864676.\n",
      "[I 2025-03-02 12:03:43,276] Trial 143 finished with value: 0.5345999996049126 and parameters: {'n_factors': 10, 'alpha': 4.270804746024688, 'regularization': 5.480354642951909, 'iterations': 40}. Best is trial 10 with value: 0.5397165731864676.\n",
      "[I 2025-03-02 12:03:44,618] Trial 144 finished with value: 0.5393198274073815 and parameters: {'n_factors': 5, 'alpha': 4.703094332123555, 'regularization': 7.307627736605544, 'iterations': 40}. Best is trial 10 with value: 0.5397165731864676.\n",
      "[I 2025-03-02 12:03:46,011] Trial 145 finished with value: 0.535180874400999 and parameters: {'n_factors': 10, 'alpha': 4.68769582301791, 'regularization': 7.559901727918172, 'iterations': 40}. Best is trial 10 with value: 0.5397165731864676.\n",
      "[I 2025-03-02 12:03:47,358] Trial 146 finished with value: 0.5392935815909655 and parameters: {'n_factors': 5, 'alpha': 5.5764186663111195, 'regularization': 8.428644352679129, 'iterations': 40}. Best is trial 10 with value: 0.5397165731864676.\n",
      "[I 2025-03-02 12:03:48,983] Trial 147 finished with value: 0.5027015911059709 and parameters: {'n_factors': 105, 'alpha': 5.029040237986385, 'regularization': 6.809522343618814, 'iterations': 40}. Best is trial 10 with value: 0.5397165731864676.\n",
      "[I 2025-03-02 12:03:50,303] Trial 148 finished with value: 0.5393486132871607 and parameters: {'n_factors': 5, 'alpha': 5.7319041419470524, 'regularization': 4.46223747484934, 'iterations': 35}. Best is trial 10 with value: 0.5397165731864676.\n",
      "[I 2025-03-02 12:03:51,629] Trial 149 finished with value: 0.5337624352760642 and parameters: {'n_factors': 10, 'alpha': 5.740027932814867, 'regularization': 0.003427777460642231, 'iterations': 30}. Best is trial 10 with value: 0.5397165731864676.\n",
      "[I 2025-03-02 12:03:52,891] Trial 150 finished with value: 0.5397647093063869 and parameters: {'n_factors': 5, 'alpha': 6.09412295947113, 'regularization': 4.758507010828268, 'iterations': 25}. Best is trial 150 with value: 0.5397647093063869.\n",
      "[I 2025-03-02 12:03:54,152] Trial 151 finished with value: 0.5392529548612917 and parameters: {'n_factors': 5, 'alpha': 6.100059636692875, 'regularization': 4.529198530122649, 'iterations': 25}. Best is trial 150 with value: 0.5397647093063869.\n",
      "[I 2025-03-02 12:03:55,462] Trial 152 finished with value: 0.5391748336581403 and parameters: {'n_factors': 5, 'alpha': 5.882782280953989, 'regularization': 2.9054411405039313, 'iterations': 35}. Best is trial 150 with value: 0.5397647093063869.\n",
      "[I 2025-03-02 12:03:56,787] Trial 153 finished with value: 0.5348494149675791 and parameters: {'n_factors': 10, 'alpha': 6.561640624856542, 'regularization': 5.1373706000818045, 'iterations': 30}. Best is trial 150 with value: 0.5397647093063869.\n",
      "[I 2025-03-02 12:03:58,047] Trial 154 finished with value: 0.5392029119441881 and parameters: {'n_factors': 5, 'alpha': 6.254382067973207, 'regularization': 3.9709985958495704, 'iterations': 25}. Best is trial 150 with value: 0.5397647093063869.\n",
      "[I 2025-03-02 12:03:59,367] Trial 155 finished with value: 0.5393584891877774 and parameters: {'n_factors': 5, 'alpha': 6.842434767110131, 'regularization': 5.694345646616846, 'iterations': 35}. Best is trial 150 with value: 0.5397647093063869.\n",
      "[I 2025-03-02 12:04:00,626] Trial 156 finished with value: 0.5353350436352385 and parameters: {'n_factors': 10, 'alpha': 7.942173862143729, 'regularization': 3.392552387005201, 'iterations': 20}. Best is trial 150 with value: 0.5397647093063869.\n",
      "[I 2025-03-02 12:04:01,900] Trial 157 finished with value: 0.5265614717652132 and parameters: {'n_factors': 15, 'alpha': 5.276475731211409, 'regularization': 1.9602507171063621, 'iterations': 20}. Best is trial 150 with value: 0.5397647093063869.\n",
      "[I 2025-03-02 12:04:03,217] Trial 158 finished with value: 0.5390137659912025 and parameters: {'n_factors': 5, 'alpha': 6.9724043921866485, 'regularization': 0.16710365909366795, 'iterations': 35}. Best is trial 150 with value: 0.5397647093063869.\n",
      "[I 2025-03-02 12:04:04,741] Trial 159 finished with value: 0.5173404043059215 and parameters: {'n_factors': 50, 'alpha': 7.155339915881367, 'regularization': 5.890878514517242, 'iterations': 35}. Best is trial 150 with value: 0.5397647093063869.\n",
      "[I 2025-03-02 12:04:06,068] Trial 160 finished with value: 0.5351743102187316 and parameters: {'n_factors': 10, 'alpha': 7.675470235742699, 'regularization': 8.007101832135692, 'iterations': 30}. Best is trial 150 with value: 0.5397647093063869.\n",
      "[I 2025-03-02 12:04:07,389] Trial 161 finished with value: 0.5393273640816915 and parameters: {'n_factors': 5, 'alpha': 5.528742832312914, 'regularization': 4.59926477851537, 'iterations': 35}. Best is trial 150 with value: 0.5397647093063869.\n",
      "[I 2025-03-02 12:04:08,705] Trial 162 finished with value: 0.539218278370363 and parameters: {'n_factors': 5, 'alpha': 6.767350481920393, 'regularization': 4.621677510838474, 'iterations': 35}. Best is trial 150 with value: 0.5397647093063869.\n",
      "[I 2025-03-02 12:04:10,022] Trial 163 finished with value: 0.5392224514421311 and parameters: {'n_factors': 5, 'alpha': 5.474445006096698, 'regularization': 9.902264819806431, 'iterations': 35}. Best is trial 150 with value: 0.5397647093063869.\n",
      "[I 2025-03-02 12:04:11,309] Trial 164 finished with value: 0.5392322054386239 and parameters: {'n_factors': 5, 'alpha': 5.683026364624956, 'regularization': 5.454695817528874, 'iterations': 30}. Best is trial 150 with value: 0.5397647093063869.\n",
      "[I 2025-03-02 12:04:12,665] Trial 165 finished with value: 0.5343669018390564 and parameters: {'n_factors': 10, 'alpha': 5.460158039347783, 'regularization': 4.121530345001071, 'iterations': 35}. Best is trial 150 with value: 0.5397647093063869.\n",
      "[I 2025-03-02 12:04:13,977] Trial 166 finished with value: 0.5393103416019844 and parameters: {'n_factors': 5, 'alpha': 5.980938488911908, 'regularization': 6.636083920350731, 'iterations': 35}. Best is trial 150 with value: 0.5397647093063869.\n",
      "[I 2025-03-02 12:04:15,288] Trial 167 finished with value: 0.5393835189138805 and parameters: {'n_factors': 5, 'alpha': 6.060639385466586, 'regularization': 7.0931311061511435, 'iterations': 35}. Best is trial 150 with value: 0.5397647093063869.\n",
      "[I 2025-03-02 12:04:16,656] Trial 168 finished with value: 0.5343668025413302 and parameters: {'n_factors': 10, 'alpha': 6.232750627669854, 'regularization': 3.3936853242197493, 'iterations': 35}. Best is trial 150 with value: 0.5397647093063869.\n",
      "[I 2025-03-02 12:04:18,040] Trial 169 finished with value: 0.5277137931539814 and parameters: {'n_factors': 15, 'alpha': 7.51599078208667, 'regularization': 8.299979140723977, 'iterations': 35}. Best is trial 150 with value: 0.5397647093063869.\n",
      "[I 2025-03-02 12:04:19,346] Trial 170 finished with value: 0.539021704672439 and parameters: {'n_factors': 5, 'alpha': 5.789701530702665, 'regularization': 0.001000676384351754, 'iterations': 35}. Best is trial 150 with value: 0.5397647093063869.\n",
      "[I 2025-03-02 12:04:20,657] Trial 171 finished with value: 0.5392382514752957 and parameters: {'n_factors': 5, 'alpha': 6.1151234307170395, 'regularization': 6.578112705857891, 'iterations': 35}. Best is trial 150 with value: 0.5397647093063869.\n",
      "[I 2025-03-02 12:04:21,968] Trial 172 finished with value: 0.539381042109011 and parameters: {'n_factors': 5, 'alpha': 6.420371872335831, 'regularization': 5.3765040329317975, 'iterations': 35}. Best is trial 150 with value: 0.5397647093063869.\n",
      "[I 2025-03-02 12:04:23,254] Trial 173 finished with value: 0.5391573708813702 and parameters: {'n_factors': 5, 'alpha': 6.585631843923806, 'regularization': 4.933504142631529, 'iterations': 30}. Best is trial 150 with value: 0.5397647093063869.\n",
      "[I 2025-03-02 12:04:24,610] Trial 174 finished with value: 0.5346888963109306 and parameters: {'n_factors': 10, 'alpha': 6.323449380310129, 'regularization': 5.652431542758959, 'iterations': 35}. Best is trial 150 with value: 0.5397647093063869.\n",
      "[I 2025-03-02 12:04:25,968] Trial 175 finished with value: 0.5343538677212396 and parameters: {'n_factors': 10, 'alpha': 5.672947497737902, 'regularization': 4.3545357119990795, 'iterations': 35}. Best is trial 150 with value: 0.5397647093063869.\n",
      "[I 2025-03-02 12:04:27,287] Trial 176 finished with value: 0.539304325845441 and parameters: {'n_factors': 5, 'alpha': 6.890189108167405, 'regularization': 8.136648263322476, 'iterations': 35}. Best is trial 150 with value: 0.5397647093063869.\n",
      "[I 2025-03-02 12:04:28,601] Trial 177 finished with value: 0.5392649268594952 and parameters: {'n_factors': 5, 'alpha': 6.408157877882804, 'regularization': 5.045892974478161, 'iterations': 35}. Best is trial 150 with value: 0.5397647093063869.\n",
      "[I 2025-03-02 12:04:29,990] Trial 178 finished with value: 0.5349947523826678 and parameters: {'n_factors': 10, 'alpha': 6.6996352422878545, 'regularization': 7.03079908885553, 'iterations': 40}. Best is trial 150 with value: 0.5397647093063869.\n",
      "[I 2025-03-02 12:04:31,328] Trial 179 finished with value: 0.5393258870111253 and parameters: {'n_factors': 5, 'alpha': 5.945399362228003, 'regularization': 2.857483722906841, 'iterations': 40}. Best is trial 150 with value: 0.5397647093063869.\n",
      "[I 2025-03-02 12:04:32,668] Trial 180 finished with value: 0.5391981485555466 and parameters: {'n_factors': 5, 'alpha': 5.876613692250661, 'regularization': 2.9578604163428035, 'iterations': 40}. Best is trial 150 with value: 0.5397647093063869.\n",
      "[I 2025-03-02 12:04:34,007] Trial 181 finished with value: 0.5392962257817141 and parameters: {'n_factors': 5, 'alpha': 6.103591002365032, 'regularization': 5.960761662022166, 'iterations': 40}. Best is trial 150 with value: 0.5397647093063869.\n",
      "[I 2025-03-02 12:04:35,344] Trial 182 finished with value: 0.5392880560889337 and parameters: {'n_factors': 5, 'alpha': 5.568318524240839, 'regularization': 3.7871220755423503, 'iterations': 40}. Best is trial 150 with value: 0.5397647093063869.\n",
      "[I 2025-03-02 12:04:36,729] Trial 183 finished with value: 0.5341975082768676 and parameters: {'n_factors': 10, 'alpha': 5.221612653779687, 'regularization': 2.335177542943063, 'iterations': 40}. Best is trial 150 with value: 0.5397647093063869.\n",
      "[I 2025-03-02 12:04:38,067] Trial 184 finished with value: 0.5386636138614769 and parameters: {'n_factors': 5, 'alpha': 5.940616285218032, 'regularization': 4.53766705052299, 'iterations': 40}. Best is trial 150 with value: 0.5397647093063869.\n",
      "[I 2025-03-02 12:04:39,451] Trial 185 finished with value: 0.5354370818825633 and parameters: {'n_factors': 10, 'alpha': 4.930373238044881, 'regularization': 9.9981178908672, 'iterations': 40}. Best is trial 150 with value: 0.5397647093063869.\n",
      "[I 2025-03-02 12:04:40,760] Trial 186 finished with value: 0.539289462563659 and parameters: {'n_factors': 5, 'alpha': 5.343765555359419, 'regularization': 8.0442268405493, 'iterations': 35}. Best is trial 150 with value: 0.5397647093063869.\n",
      "[I 2025-03-02 12:04:42,148] Trial 187 finished with value: 0.5346025235912986 and parameters: {'n_factors': 10, 'alpha': 7.003703249021864, 'regularization': 5.872563386787113, 'iterations': 40}. Best is trial 150 with value: 0.5397647093063869.\n",
      "[I 2025-03-02 12:04:43,457] Trial 188 finished with value: 0.5392284046794141 and parameters: {'n_factors': 5, 'alpha': 5.72690336682252, 'regularization': 3.6087652344383656, 'iterations': 35}. Best is trial 150 with value: 0.5397647093063869.\n",
      "[I 2025-03-02 12:04:44,710] Trial 189 finished with value: 0.5392063701365956 and parameters: {'n_factors': 5, 'alpha': 6.565948133112573, 'regularization': 6.809932637856512, 'iterations': 25}. Best is trial 150 with value: 0.5397647093063869.\n",
      "[I 2025-03-02 12:04:46,028] Trial 190 finished with value: 0.534608215677103 and parameters: {'n_factors': 10, 'alpha': 6.298493720779954, 'regularization': 5.244860847939697, 'iterations': 30}. Best is trial 150 with value: 0.5397647093063869.\n",
      "[I 2025-03-02 12:04:47,334] Trial 191 finished with value: 0.5392539428931863 and parameters: {'n_factors': 5, 'alpha': 5.903135147229268, 'regularization': 7.052114859991821, 'iterations': 35}. Best is trial 150 with value: 0.5397647093063869.\n",
      "[I 2025-03-02 12:04:48,654] Trial 192 finished with value: 0.539326844516806 and parameters: {'n_factors': 5, 'alpha': 6.050630404948958, 'regularization': 6.428509510568293, 'iterations': 35}. Best is trial 150 with value: 0.5397647093063869.\n",
      "[I 2025-03-02 12:04:49,999] Trial 193 finished with value: 0.5392941577353417 and parameters: {'n_factors': 5, 'alpha': 6.1411234700581385, 'regularization': 8.352348559184932, 'iterations': 35}. Best is trial 150 with value: 0.5397647093063869.\n",
      "[I 2025-03-02 12:04:51,407] Trial 194 finished with value: 0.5345329216802429 and parameters: {'n_factors': 10, 'alpha': 5.552701313536838, 'regularization': 4.354281184528288, 'iterations': 40}. Best is trial 150 with value: 0.5397647093063869.\n",
      "[I 2025-03-02 12:04:52,727] Trial 195 finished with value: 0.5392464431414005 and parameters: {'n_factors': 5, 'alpha': 6.016886042393203, 'regularization': 5.693202730325353, 'iterations': 35}. Best is trial 150 with value: 0.5397647093063869.\n",
      "[I 2025-03-02 12:04:54,070] Trial 196 finished with value: 0.539284061390418 and parameters: {'n_factors': 5, 'alpha': 4.897045242311784, 'regularization': 7.373585678648619, 'iterations': 40}. Best is trial 150 with value: 0.5397647093063869.\n",
      "[I 2025-03-02 12:04:55,455] Trial 197 finished with value: 0.534615045541553 and parameters: {'n_factors': 10, 'alpha': 5.344810129051275, 'regularization': 4.757985028415603, 'iterations': 40}. Best is trial 150 with value: 0.5397647093063869.\n",
      "[I 2025-03-02 12:04:56,763] Trial 198 finished with value: 0.5392433923976175 and parameters: {'n_factors': 5, 'alpha': 5.763548433832739, 'regularization': 8.636561634641671, 'iterations': 35}. Best is trial 150 with value: 0.5397647093063869.\n",
      "[I 2025-03-02 12:04:58,222] Trial 199 finished with value: 0.5277096934407675 and parameters: {'n_factors': 15, 'alpha': 5.144097866838228, 'regularization': 6.355083482362941, 'iterations': 40}. Best is trial 150 with value: 0.5397647093063869.\n"
     ]
    }
   ],
   "source": [
    "import optuna\n",
    "\n",
    "def objective(trial):\n",
    "    n_factors = trial.suggest_int(\"n_factors\", 5, 120, step=5)\n",
    "    alpha = trial.suggest_float(\"alpha\", 1.0, 10.0)\n",
    "    regularization = trial.suggest_float(\"regularization\", 0.001, 10.0, log=True)\n",
    "    iterations = trial.suggest_int(\"iterations\", 10, 50, step=5)\n",
    "\n",
    "    recs = make_als_recommendations(coo_interactions, n_factors=n_factors, alpha=alpha, regularization=regularization, iterations=iterations, show_progress=False, use_gpu=True)\n",
    "    return calculate_ndcg(recs, df_test)\n",
    "\n",
    "study = optuna.create_study(\n",
    "    direction=\"maximize\",\n",
    "    sampler=optuna.samplers.TPESampler(seed=42),\n",
    ")\n",
    "\n",
    "study.optimize(objective, n_trials=200)"
   ]
  },
  {
   "cell_type": "code",
   "execution_count": 26,
   "id": "573ad496",
   "metadata": {},
   "outputs": [
    {
     "data": {
      "text/plain": [
       "0.5397647093063869"
      ]
     },
     "execution_count": 26,
     "metadata": {},
     "output_type": "execute_result"
    }
   ],
   "source": [
    "study.best_value"
   ]
  },
  {
   "cell_type": "code",
   "execution_count": 27,
   "id": "76a0ff26",
   "metadata": {},
   "outputs": [
    {
     "data": {
      "text/plain": [
       "{'n_factors': 5,\n",
       " 'alpha': 6.09412295947113,\n",
       " 'regularization': 4.758507010828268,\n",
       " 'iterations': 25}"
      ]
     },
     "execution_count": 27,
     "metadata": {},
     "output_type": "execute_result"
    }
   ],
   "source": [
    "study.best_params"
   ]
  },
  {
   "cell_type": "markdown",
   "id": "f4ecda23",
   "metadata": {},
   "source": [
    "После подбора гиперпараметров качество удалось улучшить. Но оно все еще сравнимо с качеством SVD-предсказаний"
   ]
  },
  {
   "cell_type": "markdown",
   "id": "81f3b1cc-760b-4d6a-ab8a-aca57b7b6dfe",
   "metadata": {},
   "source": [
    "##### Задание 3.2. Сделайте объяснение рекомендаций для нескольких юзеров(als.explain). Воспользуйтесь файлом movies.dat чтобы перейти от индексов фильмов к их названием"
   ]
  },
  {
   "cell_type": "markdown",
   "id": "d17717c2",
   "metadata": {},
   "source": [
    "Получим названия и id фильмов из файла"
   ]
  },
  {
   "cell_type": "code",
   "execution_count": 29,
   "id": "ddd9a956-d2f5-4560-8d0c-c72164ebdfa8",
   "metadata": {},
   "outputs": [],
   "source": [
    "movie_titles = {}\n",
    "with open('/home/chaichuk/AI_Masters/RecSys/hw2/ml-1m/movies.dat', 'r', encoding='ISO-8859-1') as f:\n",
    "    for line in f:\n",
    "        parts = line.strip().split('::')\n",
    "        movie_id = int(parts[0]) - 1\n",
    "        title = parts[1]\n",
    "        movie_titles[movie_id] = title"
   ]
  },
  {
   "cell_type": "code",
   "execution_count": 30,
   "id": "10e4e68c",
   "metadata": {},
   "outputs": [],
   "source": [
    "sparse_interactions = csr_matrix(interactions)"
   ]
  },
  {
   "cell_type": "markdown",
   "id": "daabad0c",
   "metadata": {},
   "source": [
    "Сделаем предсказания. Возьмем не очень много, чтобы не все объяснять"
   ]
  },
  {
   "cell_type": "code",
   "execution_count": 31,
   "id": "a3e6b9dc",
   "metadata": {},
   "outputs": [
    {
     "name": "stderr",
     "output_type": "stream",
     "text": [
      "  0%|          | 0/15 [00:00<?, ?it/s]"
     ]
    },
    {
     "name": "stderr",
     "output_type": "stream",
     "text": [
      "100%|██████████| 15/15 [00:00<00:00, 19.61it/s]\n"
     ]
    }
   ],
   "source": [
    "recs, model = make_als_recommendations(sparse_interactions, n_factors=10, alpha=5.0, regularization=10.0, top_k=5, return_model=True)"
   ]
  },
  {
   "cell_type": "markdown",
   "id": "71c2febe",
   "metadata": {},
   "source": [
    "Выберем несколько юзеров для объяснения"
   ]
  },
  {
   "cell_type": "code",
   "execution_count": 50,
   "id": "320250cb",
   "metadata": {},
   "outputs": [
    {
     "data": {
      "text/plain": [
       "array([1993, 2174, 3116, 1674, 3815])"
      ]
     },
     "execution_count": 50,
     "metadata": {},
     "output_type": "execute_result"
    }
   ],
   "source": [
    "user_ids = np.random.randint(interactions.shape[0], size=5)\n",
    "user_ids"
   ]
  },
  {
   "cell_type": "code",
   "execution_count": 51,
   "id": "b6b964f4",
   "metadata": {},
   "outputs": [
    {
     "name": "stdout",
     "output_type": "stream",
     "text": [
      "User: 1993\n",
      "\n",
      "Recommended:\n",
      "\n",
      "Mrs. Doubtfire (1993)                   Priest (1994)                           Lawrence of Arabia (1962)               Urban Legend (1998)                     Gordy (1995)                            \n",
      "\n",
      "Explanations:\n",
      "\n",
      "Dead Man on Campus (1998)               Dead Man on Campus (1998)               Dead Man on Campus (1998)               Dead Man on Campus (1998)               Ladybird Ladybird (1994)                \n",
      "With Honors (1994)                      Broken Arrow (1996)                     Broken Arrow (1996)                     Love and Death on Long Island (1997)    With Honors (1994)                      \n",
      "Inventing the Abbotts (1997)            Love and Death on Long Island (1997)    Inventing the Abbotts (1997)            Money Pit, The (1986)                   Inventing the Abbotts (1997)            \n",
      "Broken Arrow (1996)                     Inventing the Abbotts (1997)            Program, The (1993)                     Toy Story (1995)                        Dead Man on Campus (1998)               \n",
      "Ladybird Ladybird (1994)                Giant (1956)                            With Honors (1994)                      Ladybird Ladybird (1994)                Program, The (1993)                     \n",
      "Program, The (1993)                     With Honors (1994)                      Country Life (1994)                     With Honors (1994)                      Miracle on 34th Street (1947)           \n",
      "Miracle on 34th Street (1947)           Girls Town (1996)                       Ladybird Ladybird (1994)                Program, The (1993)                     Broken Arrow (1996)                     \n",
      "\n",
      "--------------------------------------------------------------------------------------------------------------------------------------------------------------------------------------------------------\n",
      "\n",
      "User: 2174\n",
      "\n",
      "Recommended:\n",
      "\n",
      "Bushwhacked (1995)                                   Dead Man on Campus (1998)                            Toy Story (1995)                                     Money Pit, The (1986)                                Shooting Fish (1997)                                 \n",
      "\n",
      "Explanations:\n",
      "\n",
      "Baton Rouge (1988)                                   Fever Pitch (1997)                                   Urban Legend (1998)                                  Urban Legend (1998)                                  Cat from Outer Space, The (1978)                     \n",
      "Police Story 4: Project S (Chao ji ji hua) (1993)    Baton Rouge (1988)                                   Girls Town (1996)                                    Mighty Morphin Power Rangers: The Movie (1995)       Urban Legend (1998)                                  \n",
      "Giant (1956)                                         Urban Legend (1998)                                  Mighty Morphin Power Rangers: The Movie (1995)       Welcome to Woop-Woop (1997)                          Mighty Morphin Power Rangers: The Movie (1995)       \n",
      "Girls Town (1996)                                    Giant (1956)                                         Welcome to Woop-Woop (1997)                          Cat from Outer Space, The (1978)                     Welcome to Woop-Woop (1997)                          \n",
      "Country Life (1994)                                  Girls Town (1996)                                    Giant (1956)                                         Girls Town (1996)                                    Friday the 13th Part VI: Jason Lives (1986)          \n",
      "Halloween II (1981)                                  Police Story 4: Project S (Chao ji ji hua) (1993)    Baton Rouge (1988)                                   D2: The Mighty Ducks (1994)                          Girls Town (1996)                                    \n",
      "Bye-Bye (1995)                                       Cocoon: The Return (1988)                            Tigrero: A Film That Was Never Made (1994)           Friday the 13th Part VI: Jason Lives (1986)          Baton Rouge (1988)                                   \n",
      "\n",
      "--------------------------------------------------------------------------------------------------------------------------------------------------------------------------------------------------------\n",
      "\n",
      "User: 3116\n",
      "\n",
      "Recommended:\n",
      "\n",
      "Life (1999)                                            Anne Frank Remembered (1995)                           Dead Man on Campus (1998)                              Girl 6 (1996)                                          Gone with the Wind (1939)                              \n",
      "\n",
      "Explanations:\n",
      "\n",
      "Girl in the Cadillac (1995)                            Pink Flamingos (1972)                                  Love and Death on Long Island (1997)                   Inventing the Abbotts (1997)                           Turbulence (1997)                                      \n",
      "Silence of the Palace, The (Saimt el Qusur) (1994)     Hope Floats (1998)                                     Son of Flubber (1963)                                  Mrs. Doubtfire (1993)                                  Class (1983)                                           \n",
      "Color of Money, The (1986)                             City Slickers II: The Legend of Curly's Gold (1994)    It Came from Outer Space (1953)                        Son of Flubber (1963)                                  Adventures of Robin Hood, The (1938)                   \n",
      "Outbreak (1995)                                        Normal Life (1996)                                     Mrs. Doubtfire (1993)                                  With Honors (1994)                                     Some Like It Hot (1959)                                \n",
      "Woman in Question, The (1950)                          Jingle All the Way (1996)                              Nightmares (1983)                                      Baton Rouge (1988)                                     39 Steps, The (1935)                                   \n",
      "Princess Bride, The (1987)                             8 1/2 (1963)                                           Baton Rouge (1988)                                     Broken Arrow (1996)                                    Six Ways to Sunday (1997)                              \n",
      "Hope Floats (1998)                                     Glory (1989)                                           Broken Arrow (1996)                                    Bushwhacked (1995)                                     African Queen, The (1951)                              \n",
      "\n",
      "--------------------------------------------------------------------------------------------------------------------------------------------------------------------------------------------------------\n",
      "\n",
      "User: 1674\n",
      "\n",
      "Recommended:\n",
      "\n",
      "Broken Arrow (1996)                                  Dead Man on Campus (1998)                            Police Story 4: Project S (Chao ji ji hua) (1993)    Bye-Bye (1995)                                       Mrs. Doubtfire (1993)                                \n",
      "\n",
      "Explanations:\n",
      "\n",
      "Inventing the Abbotts (1997)                         Baton Rouge (1988)                                   Bushwhacked (1995)                                   Baton Rouge (1988)                                   Inventing the Abbotts (1997)                         \n",
      "Baton Rouge (1988)                                   Inventing the Abbotts (1997)                         Baton Rouge (1988)                                   Bushwhacked (1995)                                   Baton Rouge (1988)                                   \n",
      "Bushwhacked (1995)                                   Bushwhacked (1995)                                   Crude Oasis, The (1995)                              Inventing the Abbotts (1997)                         Bushwhacked (1995)                                   \n",
      "Highlander III: The Sorcerer (1994)                  Hostile Intentions (1994)                            Inventing the Abbotts (1997)                         Crude Oasis, The (1995)                              Hostile Intentions (1994)                            \n",
      "Much Ado About Nothing (1993)                        Crude Oasis, The (1995)                              Hostile Intentions (1994)                            Hostile Intentions (1994)                            Crude Oasis, The (1995)                              \n",
      "Hostile Intentions (1994)                            Girl 6 (1996)                                        Long Kiss Goodnight, The (1996)                      Long Kiss Goodnight, The (1996)                      Girl 6 (1996)                                        \n",
      "Crude Oasis, The (1995)                              Arachnophobia (1990)                                 Girl 6 (1996)                                        Girl 6 (1996)                                        Long Kiss Goodnight, The (1996)                      \n",
      "\n",
      "--------------------------------------------------------------------------------------------------------------------------------------------------------------------------------------------------------\n",
      "\n",
      "User: 3815\n",
      "\n",
      "Recommended:\n",
      "\n",
      "House (1986)                                       Why Do Fools Fall In Love? (1998)                  Darby O'Gill and the Little People (1959)          Powder (1995)                                      Song of the South (1946)                           \n",
      "\n",
      "Explanations:\n",
      "\n",
      "Sheltering Sky, The (1990)                         Sheltering Sky, The (1990)                         Cruise, The (1998)                                 Pi (1998)                                          Sheltering Sky, The (1990)                         \n",
      "Best Man, The (Il Testimone dello sposo) (1997)    Lolita (1997)                                      Sheltering Sky, The (1990)                         Sheltering Sky, The (1990)                         Inventing the Abbotts (1997)                       \n",
      "Pi (1998)                                          Klute (1971)                                       Governess, The (1998)                              Lolita (1997)                                      Cruise, The (1998)                                 \n",
      "Governess, The (1998)                              Cruise, The (1998)                                 Pi (1998)                                          Best Man, The (Il Testimone dello sposo) (1997)    Klute (1971)                                       \n",
      "Lolita (1997)                                      Pi (1998)                                          Klute (1971)                                       Cruise, The (1998)                                 Son of Flubber (1963)                              \n",
      "Cruise, The (1998)                                 Best Man, The (Il Testimone dello sposo) (1997)    Lolita (1997)                                      Governess, The (1998)                              Little Men (1998)                                  \n",
      "Klute (1971)                                       Little Men (1998)                                  Best Man, The (Il Testimone dello sposo) (1997)    Big Lebowski, The (1998)                           Stepford Wives, The (1975)                         \n",
      "\n",
      "--------------------------------------------------------------------------------------------------------------------------------------------------------------------------------------------------------\n",
      "\n"
     ]
    }
   ],
   "source": [
    "for user_id in user_ids:\n",
    "    print('User:', user_id, end='\\n\\n')\n",
    "    user_recs = recs[user_id]\n",
    "    recs_to_movie = [movie_titles[item] for item in user_recs]\n",
    "\n",
    "\n",
    "\n",
    "    max_length = 0\n",
    "    explanations = []\n",
    "    for item_id in user_recs:\n",
    "        explanation = model.explain(user_id, sparse_interactions, item_id)[1]\n",
    "        explanations.append([movie_titles[item] if item in movie_titles else None for item, score in explanation ])\n",
    "        for m in explanations[-1]:\n",
    "            if len(m) > max_length:\n",
    "                max_length = len(m)\n",
    "\n",
    "    for m in recs_to_movie:\n",
    "        if len(m) > max_length:\n",
    "                max_length = len(m)\n",
    "\n",
    "    print('Recommended:', end='\\n\\n')\n",
    "\n",
    "    for m in recs_to_movie:\n",
    "        print(m + ' ' * (max_length - len(m) + 4), end='')\n",
    "    print('\\n')\n",
    "\n",
    "    print('Explanations:', end='\\n\\n')\n",
    "\n",
    "    for i in range(7):\n",
    "        expl_i = [e[i] for e in explanations]\n",
    "        for e in expl_i:\n",
    "            print(e + ' ' * (max_length - len(e) + 4), end='')\n",
    "        print()\n",
    "\n",
    "    print()\n",
    "    print('-' * 200)\n",
    "    print()\n"
   ]
  },
  {
   "cell_type": "markdown",
   "id": "fce53798",
   "metadata": {},
   "source": [
    "Можем действительно наблюдать, что на рекомендации влияют близкие по жанрам фильмы. Например, для фильма Dead Man on Campus (1998), высокие скоры имеют другие околокриминальные фильмы"
   ]
  },
  {
   "cell_type": "markdown",
   "id": "d7d7ea0c-8288-45f5-83d4-9761a8952669",
   "metadata": {},
   "source": [
    "##### Задание 4. До этого мы работали с рейтингами, но как обсуждалось на лекции, implicit ALS отлично работает и с implicit фидбэком. Давайте попробуем преобразовать наш датасет(трейн и тест) следующим образом\n",
    "\n",
    "1. Бинаризуем все рейтинги(заменим любую интеракцию пользователя на 1)\n",
    "2. Заменим на 1 только рейтинги 4 и 5, а рейтинг ниже 4 заменим на 0\n",
    "3. Заменим на 1 только рейтинги 4 и 5, а рейтинг ниже 4 заменим на -1\n",
    "4. Заменим на 1 только рейтинги 4 и 5, а рейтинг ниже 4 заменим на -1 и добавим сглаживание по времени. То есть чем дальше была интеракция от максимальной даты трейна, тем с меньшим весом мы будем ее учитывать(например можно интеракции за последний месяц брать в исходном виде, и с каждым месяцем в прошлое умножать их на какой-нибудь коэффициент меньший 1). Таким образом более старые интеракции пользователя будут вносить меньший вклад в его интересы\n",
    "5. Придумайте свой вариант(опционально)\n",
    "\n",
    "Для каждой полученной матрицы обучите iALS и SVD и сравните их результаты между собой(преобразовывать нужно только обучающую выборку, тестовую оставляем неизменной)"
   ]
  },
  {
   "cell_type": "markdown",
   "id": "891e4074",
   "metadata": {},
   "source": [
    "Сделаем первую модификацию и посмотрим на качество"
   ]
  },
  {
   "cell_type": "code",
   "execution_count": 52,
   "id": "c839fd09-eca4-43e0-a209-2da63775f79f",
   "metadata": {},
   "outputs": [
    {
     "name": "stdout",
     "output_type": "stream",
     "text": [
      "SVD recs NDCG@100: 0.5345716738697296\n",
      "ALS recs NDCG@100: 0.5282282190180604\n"
     ]
    }
   ],
   "source": [
    "interactions_1 = interactions.copy()\n",
    "interactions_1[interactions_1 != 0] = 1\n",
    "\n",
    "svd_recommendations = make_svd_recommendations(interactions_1, n_singular_values=5, top_k=100)\n",
    "print(f'SVD recs NDCG@100: {calculate_ndcg(svd_recommendations, df_test)}')\n",
    "\n",
    "als_recommendations = make_als_recommendations(interactions_1, n_factors=5, alpha=10.0, top_k=100, show_progress=False)\n",
    "print(f'ALS recs NDCG@100: {calculate_ndcg(als_recommendations, df_test)}')"
   ]
  },
  {
   "cell_type": "markdown",
   "id": "cb8f1a91",
   "metadata": {},
   "source": [
    "Видим, что качество осталось примерно на том же уровне, что и сбазовыми данными. И сами модели близки по качеству"
   ]
  },
  {
   "cell_type": "markdown",
   "id": "8a563b16",
   "metadata": {},
   "source": [
    "Теперь попробуем вторую модификацию"
   ]
  },
  {
   "cell_type": "code",
   "execution_count": 57,
   "id": "b4efc336",
   "metadata": {},
   "outputs": [
    {
     "name": "stdout",
     "output_type": "stream",
     "text": [
      "SVD recs NDCG@100: 0.49500719018543277\n",
      "ALS recs NDCG@100: 0.49777927791791693\n"
     ]
    }
   ],
   "source": [
    "interactions_2 = interactions.copy()\n",
    "interactions_2[interactions_2 < 4] = 0\n",
    "interactions_2[interactions_2 >= 4] = 1\n",
    "\n",
    "svd_recommendations = make_svd_recommendations(interactions_2, n_singular_values=5, top_k=100)\n",
    "print(f'SVD recs NDCG@100: {calculate_ndcg(svd_recommendations, df_test)}')\n",
    "\n",
    "als_recommendations = make_als_recommendations(interactions_2, n_factors=5, alpha=10.0, top_k=100, show_progress=False)\n",
    "print(f'ALS recs NDCG@100: {calculate_ndcg(als_recommendations, df_test)}')"
   ]
  },
  {
   "cell_type": "markdown",
   "id": "ace8e670",
   "metadata": {},
   "source": [
    "Качество обеих моделей на такой модификации снизилось. Скорее всего потому, что стало меньше информации о взаимодействиях."
   ]
  },
  {
   "cell_type": "markdown",
   "id": "dd2cc95a",
   "metadata": {},
   "source": [
    "Перейдем к третьей модификации"
   ]
  },
  {
   "cell_type": "code",
   "execution_count": 58,
   "id": "5ad94288",
   "metadata": {},
   "outputs": [
    {
     "name": "stdout",
     "output_type": "stream",
     "text": [
      "SVD recs NDCG@100: 0.5259910286168683\n",
      "ALS recs NDCG@100: 0.5335671955545584\n"
     ]
    }
   ],
   "source": [
    "interactions_3 = interactions.copy()\n",
    "interactions_3[(interactions_3 != 0) & (interactions_3 < 4)] = -1\n",
    "interactions_3[interactions_3 >= 4] = 1\n",
    "\n",
    "svd_recommendations = make_svd_recommendations(interactions_3, n_singular_values=5, top_k=100)\n",
    "print(f'SVD recs NDCG@100: {calculate_ndcg(svd_recommendations, df_test)}')\n",
    "\n",
    "als_recommendations = make_als_recommendations(interactions_3, n_factors=5, alpha=15.0, top_k=100, show_progress=False)\n",
    "print(f'ALS recs NDCG@100: {calculate_ndcg(als_recommendations, df_test)}')"
   ]
  },
  {
   "cell_type": "markdown",
   "id": "8e92a5b0",
   "metadata": {},
   "source": [
    "Качество вернулось на прежний уровень. ALS работает чуть лучше"
   ]
  },
  {
   "cell_type": "markdown",
   "id": "5d8ede5f",
   "metadata": {},
   "source": [
    "Наконец, 4 модификация"
   ]
  },
  {
   "cell_type": "code",
   "execution_count": 59,
   "id": "f41c6977",
   "metadata": {},
   "outputs": [],
   "source": [
    "df_train_bin = df_train.copy()\n",
    "df_train_bin['month'] = df_train_bin['datetime'].apply(lambda x: x.month)\n",
    "df_train_bin['month_diff'] = 11 - df_train_bin['month']\n",
    "df_train_bin['rating'] = df_train_bin['rating'].apply(lambda x: -1 if x < 4 else 1)\n",
    "df_train_bin['rating'] = df_train_bin['rating'] * 0.8**df_train_bin['month_diff']\n",
    "\n",
    "interactions_4 = df_to_matrix(df_train_bin)"
   ]
  },
  {
   "cell_type": "code",
   "execution_count": 60,
   "id": "ed0a4b9f",
   "metadata": {},
   "outputs": [
    {
     "name": "stdout",
     "output_type": "stream",
     "text": [
      "SVD recs NDCG@100: 0.5272501666689094\n",
      "ALS recs NDCG@100: 0.5449737389302433\n"
     ]
    }
   ],
   "source": [
    "svd_recommendations = make_svd_recommendations(interactions_4, n_singular_values=5, top_k=100)\n",
    "print(f'SVD recs NDCG@100: {calculate_ndcg(svd_recommendations, df_test)}')\n",
    "\n",
    "als_recommendations = make_als_recommendations(interactions_4, n_factors=5, alpha=15.0, top_k=100, show_progress=False)\n",
    "print(f'ALS recs NDCG@100: {calculate_ndcg(als_recommendations, df_test)}')"
   ]
  },
  {
   "cell_type": "markdown",
   "id": "66c03359",
   "metadata": {},
   "source": [
    "Качество все еще на уровне обычных данных. Но тут отрыв ALS сильнее. И это без подбора гиперпараметров"
   ]
  },
  {
   "cell_type": "markdown",
   "id": "5bfac9ae",
   "metadata": {},
   "source": [
    "Итоге сравнения: SVD и ALS показывают сходное качество (по крайней мере на этих данных), но ALS все же показывает лучшее качество, и имеет еще потенциал для настройки гиперпараметров. В целом ALS является более гибким подходом."
   ]
  },
  {
   "cell_type": "markdown",
   "id": "ee7a03b1-5072-4bc4-ba46-1fc3c989b888",
   "metadata": {},
   "source": [
    "##### Задание 5. iALS на numpy/torch. Давайте реализуем алгоритм iALS на нумпае или торче. Требуется реализовать алгорит, описанный в 4 части [статьи](http://yifanhu.net/PUB/cf.pdf). Обратите внимания на все оптимизации, которые они описывают в статье, чтобы сократить лишние вычисления. Hint: метрики у вашего алгоритма должны быть сравнимы с метриками ALS из библиотеки implicit"
   ]
  },
  {
   "cell_type": "code",
   "execution_count": 75,
   "id": "b705933a",
   "metadata": {},
   "outputs": [],
   "source": [
    "import numpy as np\n",
    "from scipy.sparse import csr_matrix, diags, eye\n",
    "import scipy\n",
    "from sklearn.metrics.pairwise import cosine_similarity\n",
    "from tqdm.auto import tqdm\n",
    "\n",
    "class iALS:\n",
    "    def __init__(self, n_factors: int = 100, alpha: float = 1.0, reg_coef: float = 0.01):\n",
    "        self.n_factors = n_factors\n",
    "        self.alpha = alpha\n",
    "        self.reg_coef = reg_coef\n",
    "        self.user_factors = None\n",
    "        self.item_factors = None\n",
    "        self.scores = None\n",
    "\n",
    "    def fit(self, interactions: csr_matrix, n_iterations: int = 10, show_progress=True):\n",
    "        n_users, n_items = interactions.shape\n",
    "        self.user_factors = np.random.normal(size=(n_users, self.n_factors))\n",
    "        self.item_factors = np.random.normal(size=(n_items, self.n_factors))\n",
    "        self.scores = self.user_factors @ self.item_factors.T\n",
    "        \n",
    "        Cui = interactions.multiply(self.alpha)\n",
    "        Cui.data = 1.0 + Cui.data\n",
    "        \n",
    "        for _ in tqdm(range(n_iterations), disable=not show_progress):\n",
    "             \n",
    "            YTY = self.item_factors.T @ self.item_factors\n",
    "\n",
    "            for u, Cuii in enumerate(Cui):\n",
    "                Cuii = diags(Cuii.toarray().ravel())\n",
    "\n",
    "                if Cuii.sum() == 0:\n",
    "                    continue\n",
    "\n",
    "                A = YTY + self.item_factors.T @ ((Cuii - eye(n_items)) @ self.item_factors) + self.reg_coef * eye(self.n_factors)\n",
    "                b = self.item_factors.T @ (Cuii @ self.scores[u])\n",
    "                self.user_factors[u] = scipy.linalg.solve(A, b)\n",
    "            \n",
    "            XTX = self.user_factors.T @ self.user_factors\n",
    "\n",
    "            for i, Ciuu in enumerate(Cui.T):\n",
    "                Ciuu = diags(Ciuu.toarray().ravel())\n",
    "\n",
    "                if Ciuu.sum() == 0:\n",
    "                    continue\n",
    "                \n",
    "                A = XTX + self.user_factors.T @ ((Ciuu - eye(n_users)) @ self.user_factors) + self.reg_coef * eye(self.n_factors)\n",
    "                b = self.user_factors.T @ (Ciuu @ self.scores[:, i])\n",
    "                self.item_factors[i] = scipy.linalg.solve(A, b)\n",
    "\n",
    "            self.scores = self.user_factors @ self.item_factors.T\n",
    "                \n",
    "    def predict(self, interactions: csr_matrix, top_k: int = 10):\n",
    "        scores = self.scores\n",
    "        interactions = interactions.toarray()\n",
    "\n",
    "        already_interacted_mask = interactions != 0\n",
    "\n",
    "        masked_scores = np.where(already_interacted_mask, -1e10, scores)\n",
    "        top_items = np.argsort(masked_scores, axis=1)[:, ::-1]\n",
    "\n",
    "        return top_items[:, :top_k]"
   ]
  },
  {
   "cell_type": "code",
   "execution_count": 62,
   "id": "40c6ad84",
   "metadata": {},
   "outputs": [
    {
     "name": "stderr",
     "output_type": "stream",
     "text": [
      "100%|██████████| 15/15 [00:00<00:00, 19.68it/s]\n"
     ]
    },
    {
     "data": {
      "text/plain": [
       "np.float64(0.5018541606859438)"
      ]
     },
     "execution_count": 62,
     "metadata": {},
     "output_type": "execute_result"
    }
   ],
   "source": [
    "recommendations = make_als_recommendations(interactions, n_factors=10, alpha=10.0, top_k=100)\n",
    "calculate_ndcg(recommendations, df_test)"
   ]
  },
  {
   "cell_type": "code",
   "execution_count": 78,
   "id": "9fb1502b",
   "metadata": {},
   "outputs": [
    {
     "name": "stderr",
     "output_type": "stream",
     "text": [
      "100%|██████████| 10/10 [01:45<00:00, 10.58s/it]\n"
     ]
    }
   ],
   "source": [
    "als_model = iALS(n_factors=10, alpha=40.0)\n",
    "    \n",
    "als_model.fit(csr_matrix(interactions), n_iterations=10)"
   ]
  },
  {
   "cell_type": "code",
   "execution_count": 80,
   "id": "3f3be8cb",
   "metadata": {},
   "outputs": [
    {
     "data": {
      "text/plain": [
       "np.float64(0.21064062669877368)"
      ]
     },
     "execution_count": 80,
     "metadata": {},
     "output_type": "execute_result"
    }
   ],
   "source": [
    "recommendations = als_model.predict(csr_matrix(interactions), top_k=100)\n",
    "calculate_ndcg(recommendations, df_test)"
   ]
  }
 ],
 "metadata": {
  "kernelspec": {
   "display_name": "main-env",
   "language": "python",
   "name": "python3"
  },
  "language_info": {
   "codemirror_mode": {
    "name": "ipython",
    "version": 3
   },
   "file_extension": ".py",
   "mimetype": "text/x-python",
   "name": "python",
   "nbconvert_exporter": "python",
   "pygments_lexer": "ipython3",
   "version": "3.12.9"
  }
 },
 "nbformat": 4,
 "nbformat_minor": 5
}
